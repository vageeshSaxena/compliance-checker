{
 "cells": [
  {
   "cell_type": "markdown",
   "id": "196bc30e-34c6-4a9b-b352-8cbc98b00dab",
   "metadata": {},
   "source": [
    "# Importing libraries"
   ]
  },
  {
   "cell_type": "code",
   "execution_count": 1,
   "id": "ad05b146-65a9-47b9-b5a0-18224c6569c2",
   "metadata": {},
   "outputs": [],
   "source": [
    "import plotly.graph_objects as go\n",
    "from io import StringIO\n",
    "import pandas as pd"
   ]
  },
  {
   "cell_type": "markdown",
   "id": "ac513a9d-1273-4af4-985f-6399e0402a34",
   "metadata": {},
   "source": [
    "# Loading data"
   ]
  },
  {
   "cell_type": "code",
   "execution_count": 177,
   "id": "199f8c5a-84f3-47cc-b9fd-3430ff0afb44",
   "metadata": {},
   "outputs": [],
   "source": [
    "privacy = pd.read_csv(\"data/privacy.csv\")\n",
    "bias = pd.read_csv(\"data/bias.csv\")\n",
    "trasparancy = pd.read_csv(\"data/transparency.csv\")\n",
    "risk = pd.read_csv(\"data/risk.csv\")"
   ]
  },
  {
   "cell_type": "markdown",
   "id": "75369e3b-533a-48e5-ada6-87bfc7072bef",
   "metadata": {},
   "source": [
    "Formatting the data"
   ]
  },
  {
   "cell_type": "code",
   "execution_count": 178,
   "id": "d21f4f00-1c30-48c0-b2c6-ecce3b7e464f",
   "metadata": {},
   "outputs": [],
   "source": [
    "privacy.rename({\"Unnamed: 0\": \"DOC\", \n",
    "                \"Q-0\": \"PD-1\",\n",
    "                \"Q-1\": \"PD-2\",\n",
    "                \"Q-2\": \"PD-3\",\n",
    "                \"Q-3\": \"PD-4\",\n",
    "                \"Q-4\": \"PD-5\",\n",
    "                \"Q-5\": \"PD-6\",\n",
    "                \"Q-6\": \"PD-7\"}, axis='columns', inplace=True)\n",
    "\n",
    "bias.rename({\"Unnamed: 0\": \"DOC\", \n",
    "                \"Q-0\": \"DB-1\",\n",
    "                \"Q-1\": \"DB-2\",\n",
    "                \"Q-2\": \"DB-3\",\n",
    "                \"Q-3\": \"DB-4\",\n",
    "                \"Q-4\": \"DB-5\",\n",
    "                \"Q-5\": \"DB-6\",\n",
    "                \"Q-6\": \"DB-7\",\n",
    "                \"Q-7\": \"DB-8\",\n",
    "                \"Q-8\": \"DB-9\",}, axis='columns', inplace=True)\n",
    "\n",
    "trasparancy.rename({\"Unnamed: 0\": \"DOC\", \n",
    "                \"Q-0\": \"TF-1\",\n",
    "                \"Q-1\": \"TF-2\",\n",
    "                \"Q-2\": \"TF-3\",\n",
    "                }, axis='columns', inplace=True)\n",
    "\n",
    "risk.rename({\"Unnamed: 0\": \"DOC\", \n",
    "                \"Q-0\": \"SR-1\",\n",
    "                \"Q-1\": \"SR-2\",\n",
    "                \"Q-2\": \"SR-3\",\n",
    "                \"Q-3\": \"SR-4\",\n",
    "                \"Q-4\": \"SR-5\",\n",
    "                \"Q-5\": \"SR-6\",\n",
    "                \"Q-6\": \"SR-7\"}, axis='columns', inplace=True)\n",
    "\n",
    "privacy.set_index('DOC', inplace=True)\n",
    "bias.set_index('DOC', inplace=True)\n",
    "trasparancy.set_index('DOC', inplace=True)\n",
    "risk.set_index('DOC', inplace=True)"
   ]
  },
  {
   "cell_type": "markdown",
   "id": "fe7a2e17-d068-4d93-83d7-4a143dfd9294",
   "metadata": {},
   "source": [
    "# Plotting the heatmap"
   ]
  },
  {
   "cell_type": "code",
   "execution_count": 116,
   "id": "6ae2ad2f-fbac-4686-87b2-3f15300741c0",
   "metadata": {},
   "outputs": [],
   "source": [
    "def plot_heatmap(df):\n",
    "    # Map the dataframe values to a numeric scale\n",
    "    data_numeric = df.applymap(lambda x: 0 if x == 'Yes' else 1 if x == 'No' else 2)\n",
    "    \n",
    "    # Plotly Heatmap\n",
    "    fig = go.Figure(data=go.Heatmap(\n",
    "        z=data_numeric,  # Data as is\n",
    "        x=data_numeric.columns,  # Questions\n",
    "        y=data_numeric.index,  # Documents\n",
    "        colorscale=[(0, '#97BC62'), (0.5, '#FA6775'), (1, '#A1D6E2')],  # Corrected color scale\n",
    "        showscale=False,  # Hide color scale bar\n",
    "        hoverongaps=False,  # Show hover info even for \"gaps\" in the data\n",
    "        xgap=3,  # Creates gaps between columns to simulate borders\n",
    "        ygap=3,  # Creates gaps between rows to simulate borders\n",
    "    ))\n",
    "    \n",
    "    # Customize the layout\n",
    "    fig.update_layout(\n",
    "        # title='Compliancy of AA Research on the Transparency and Fairness Guidelines',\n",
    "        xaxis_title=\"Guidelines\",\n",
    "        yaxis_title=\"Document\",\n",
    "        legend_title=\"Compliancy\",\n",
    "        width=600,  # Adjust as needed\n",
    "        height=1000,  # Adjust to display all documents properly\n",
    "        margin=dict(t=50, l=50, b=50, r=50),  # Adjust margins to fit\n",
    "    )\n",
    "    \n",
    "    # Adding custom legend for colors\n",
    "    legend_labels = ['Yes', 'No', 'NA']\n",
    "    legend_colors = ['#97BC62', '#FA6775', '#A1D6E2']\n",
    "    \n",
    "    for i, (label, color) in enumerate(zip(legend_labels, legend_colors)):\n",
    "        fig.add_trace(go.Scatter(x=[None], y=[None], mode='markers',\n",
    "                                 marker=dict(size=10, color=color),\n",
    "                                 legendgroup=label, showlegend=True,\n",
    "                                 name=label))\n",
    "    \n",
    "    fig.show()"
   ]
  },
  {
   "cell_type": "code",
   "execution_count": 117,
   "id": "d104d740-42d0-4d5e-8577-ffe528bc922a",
   "metadata": {},
   "outputs": [
    {
     "data": {
      "application/vnd.plotly.v1+json": {
       "config": {
        "plotlyServerURL": "https://plot.ly"
       },
       "data": [
        {
         "colorscale": [
          [
           0,
           "#97BC62"
          ],
          [
           0.5,
           "#FA6775"
          ],
          [
           1,
           "#A1D6E2"
          ]
         ],
         "hoverongaps": false,
         "showscale": false,
         "type": "heatmap",
         "x": [
          "SR-1",
          "SR-2",
          "SR-3",
          "SR-4",
          "SR-5",
          "SR-6",
          "SR-7",
          "Q-7"
         ],
         "xgap": 3,
         "y": [
          "DOC-0",
          "DOC-1",
          "DOC-2",
          "DOC-3",
          "DOC-4",
          "DOC-5",
          "DOC-6",
          "DOC-7",
          "DOC-8",
          "DOC-9",
          "DOC-10",
          "DOC-11",
          "DOC-12",
          "DOC-13",
          "DOC-14",
          "DOC-15",
          "DOC-16",
          "DOC-17",
          "DOC-18",
          "DOC-19",
          "DOC-20",
          "DOC-21",
          "DOC-22",
          "DOC-23",
          "DOC-24",
          "DOC-25",
          "DOC-26",
          "DOC-27",
          "DOC-28",
          "DOC-29",
          "DOC-30",
          "DOC-31",
          "DOC-32",
          "DOC-33",
          "DOC-34",
          "DOC-35",
          "DOC-36",
          "DOC-37",
          "DOC-38",
          "DOC-39",
          "DOC-40",
          "DOC-41",
          "DOC-42",
          "DOC-43",
          "DOC-44",
          "DOC-45",
          "DOC-46",
          "DOC-47",
          "DOC-48",
          "DOC-49",
          "DOC-50",
          "DOC-51",
          "DOC-52",
          "DOC-53",
          "DOC-54",
          "DOC-55",
          "DOC-56",
          "DOC-57",
          "DOC-58",
          "DOC-59",
          "DOC-60",
          "DOC-61",
          "DOC-62",
          "DOC-63",
          "DOC-64",
          "DOC-65",
          "DOC-66"
         ],
         "ygap": 3,
         "z": [
          [
           0,
           2,
           0,
           2,
           2,
           2,
           2,
           2
          ],
          [
           0,
           2,
           0,
           0,
           2,
           2,
           2,
           2
          ],
          [
           0,
           2,
           0,
           0,
           0,
           2,
           2,
           2
          ],
          [
           2,
           2,
           2,
           2,
           2,
           2,
           2,
           2
          ],
          [
           2,
           2,
           0,
           2,
           2,
           2,
           2,
           2
          ],
          [
           0,
           2,
           2,
           0,
           2,
           2,
           2,
           2
          ],
          [
           0,
           2,
           2,
           0,
           2,
           2,
           2,
           2
          ],
          [
           0,
           2,
           0,
           0,
           2,
           2,
           0,
           2
          ],
          [
           2,
           2,
           2,
           2,
           2,
           2,
           2,
           2
          ],
          [
           2,
           2,
           0,
           2,
           2,
           2,
           2,
           2
          ],
          [
           2,
           2,
           2,
           2,
           2,
           2,
           1,
           2
          ],
          [
           2,
           2,
           0,
           2,
           2,
           2,
           2,
           2
          ],
          [
           2,
           2,
           2,
           2,
           2,
           2,
           2,
           2
          ],
          [
           2,
           2,
           2,
           2,
           2,
           2,
           2,
           2
          ],
          [
           2,
           2,
           2,
           2,
           2,
           2,
           2,
           2
          ],
          [
           2,
           2,
           0,
           2,
           2,
           2,
           2,
           2
          ],
          [
           2,
           2,
           2,
           2,
           2,
           2,
           2,
           2
          ],
          [
           2,
           2,
           2,
           2,
           2,
           2,
           2,
           2
          ],
          [
           2,
           2,
           0,
           2,
           2,
           2,
           2,
           2
          ],
          [
           2,
           0,
           2,
           2,
           2,
           2,
           2,
           2
          ],
          [
           2,
           2,
           2,
           2,
           2,
           2,
           0,
           2
          ],
          [
           2,
           2,
           0,
           2,
           2,
           2,
           0,
           2
          ],
          [
           2,
           2,
           2,
           2,
           2,
           2,
           2,
           2
          ],
          [
           2,
           0,
           2,
           2,
           2,
           2,
           2,
           2
          ],
          [
           2,
           2,
           2,
           2,
           2,
           2,
           2,
           2
          ],
          [
           2,
           2,
           2,
           2,
           2,
           2,
           2,
           2
          ],
          [
           2,
           2,
           2,
           2,
           2,
           2,
           2,
           2
          ],
          [
           2,
           2,
           0,
           2,
           2,
           2,
           2,
           2
          ],
          [
           2,
           2,
           0,
           2,
           2,
           2,
           2,
           2
          ],
          [
           2,
           2,
           0,
           2,
           2,
           2,
           2,
           2
          ],
          [
           2,
           2,
           0,
           2,
           2,
           2,
           2,
           2
          ],
          [
           2,
           2,
           0,
           2,
           2,
           2,
           2,
           2
          ],
          [
           2,
           0,
           0,
           2,
           2,
           2,
           2,
           2
          ],
          [
           2,
           0,
           0,
           0,
           2,
           2,
           2,
           2
          ],
          [
           2,
           0,
           0,
           0,
           2,
           2,
           2,
           2
          ],
          [
           2,
           0,
           0,
           0,
           2,
           2,
           0,
           2
          ],
          [
           2,
           2,
           0,
           0,
           2,
           2,
           2,
           2
          ],
          [
           2,
           0,
           0,
           0,
           2,
           2,
           0,
           2
          ],
          [
           2,
           0,
           0,
           0,
           2,
           2,
           2,
           2
          ],
          [
           2,
           0,
           0,
           0,
           2,
           2,
           2,
           2
          ],
          [
           2,
           0,
           0,
           0,
           2,
           2,
           2,
           2
          ],
          [
           0,
           0,
           0,
           0,
           0,
           2,
           2,
           2
          ],
          [
           0,
           0,
           0,
           0,
           0,
           2,
           2,
           2
          ],
          [
           0,
           0,
           0,
           0,
           0,
           2,
           2,
           2
          ],
          [
           0,
           0,
           0,
           0,
           0,
           2,
           2,
           2
          ],
          [
           0,
           0,
           0,
           0,
           0,
           2,
           2,
           2
          ],
          [
           0,
           0,
           0,
           0,
           0,
           2,
           2,
           2
          ],
          [
           0,
           0,
           0,
           0,
           0,
           2,
           0,
           2
          ],
          [
           0,
           0,
           0,
           0,
           0,
           2,
           0,
           2
          ],
          [
           0,
           0,
           2,
           0,
           0,
           2,
           2,
           2
          ],
          [
           0,
           0,
           0,
           0,
           0,
           2,
           2,
           2
          ],
          [
           0,
           0,
           0,
           0,
           0,
           2,
           0,
           2
          ],
          [
           0,
           0,
           0,
           0,
           0,
           2,
           0,
           2
          ],
          [
           0,
           0,
           0,
           0,
           0,
           2,
           0,
           2
          ],
          [
           0,
           0,
           0,
           0,
           0,
           2,
           2,
           2
          ],
          [
           0,
           0,
           0,
           0,
           0,
           2,
           2,
           2
          ],
          [
           0,
           0,
           0,
           0,
           0,
           2,
           2,
           2
          ],
          [
           0,
           0,
           0,
           0,
           0,
           2,
           2,
           2
          ],
          [
           0,
           0,
           0,
           0,
           0,
           2,
           2,
           2
          ],
          [
           0,
           0,
           0,
           0,
           0,
           2,
           2,
           2
          ],
          [
           0,
           0,
           0,
           0,
           0,
           2,
           2,
           2
          ],
          [
           0,
           0,
           0,
           0,
           0,
           2,
           2,
           2
          ],
          [
           0,
           0,
           0,
           0,
           0,
           2,
           2,
           2
          ],
          [
           0,
           0,
           0,
           0,
           0,
           2,
           2,
           2
          ],
          [
           0,
           0,
           0,
           0,
           0,
           2,
           2,
           2
          ],
          [
           0,
           0,
           0,
           0,
           0,
           2,
           2,
           2
          ],
          [
           0,
           0,
           0,
           0,
           0,
           2,
           2,
           2
          ]
         ]
        },
        {
         "legendgroup": "Yes",
         "marker": {
          "color": "#97BC62",
          "size": 10
         },
         "mode": "markers",
         "name": "Yes",
         "showlegend": true,
         "type": "scatter",
         "x": [
          null
         ],
         "y": [
          null
         ]
        },
        {
         "legendgroup": "No",
         "marker": {
          "color": "#FA6775",
          "size": 10
         },
         "mode": "markers",
         "name": "No",
         "showlegend": true,
         "type": "scatter",
         "x": [
          null
         ],
         "y": [
          null
         ]
        },
        {
         "legendgroup": "NA",
         "marker": {
          "color": "#A1D6E2",
          "size": 10
         },
         "mode": "markers",
         "name": "NA",
         "showlegend": true,
         "type": "scatter",
         "x": [
          null
         ],
         "y": [
          null
         ]
        }
       ],
       "layout": {
        "height": 1000,
        "legend": {
         "title": {
          "text": "Compliancy"
         }
        },
        "margin": {
         "b": 50,
         "l": 50,
         "r": 50,
         "t": 50
        },
        "template": {
         "data": {
          "bar": [
           {
            "error_x": {
             "color": "#2a3f5f"
            },
            "error_y": {
             "color": "#2a3f5f"
            },
            "marker": {
             "line": {
              "color": "#E5ECF6",
              "width": 0.5
             },
             "pattern": {
              "fillmode": "overlay",
              "size": 10,
              "solidity": 0.2
             }
            },
            "type": "bar"
           }
          ],
          "barpolar": [
           {
            "marker": {
             "line": {
              "color": "#E5ECF6",
              "width": 0.5
             },
             "pattern": {
              "fillmode": "overlay",
              "size": 10,
              "solidity": 0.2
             }
            },
            "type": "barpolar"
           }
          ],
          "carpet": [
           {
            "aaxis": {
             "endlinecolor": "#2a3f5f",
             "gridcolor": "white",
             "linecolor": "white",
             "minorgridcolor": "white",
             "startlinecolor": "#2a3f5f"
            },
            "baxis": {
             "endlinecolor": "#2a3f5f",
             "gridcolor": "white",
             "linecolor": "white",
             "minorgridcolor": "white",
             "startlinecolor": "#2a3f5f"
            },
            "type": "carpet"
           }
          ],
          "choropleth": [
           {
            "colorbar": {
             "outlinewidth": 0,
             "ticks": ""
            },
            "type": "choropleth"
           }
          ],
          "contour": [
           {
            "colorbar": {
             "outlinewidth": 0,
             "ticks": ""
            },
            "colorscale": [
             [
              0,
              "#0d0887"
             ],
             [
              0.1111111111111111,
              "#46039f"
             ],
             [
              0.2222222222222222,
              "#7201a8"
             ],
             [
              0.3333333333333333,
              "#9c179e"
             ],
             [
              0.4444444444444444,
              "#bd3786"
             ],
             [
              0.5555555555555556,
              "#d8576b"
             ],
             [
              0.6666666666666666,
              "#ed7953"
             ],
             [
              0.7777777777777778,
              "#fb9f3a"
             ],
             [
              0.8888888888888888,
              "#fdca26"
             ],
             [
              1,
              "#f0f921"
             ]
            ],
            "type": "contour"
           }
          ],
          "contourcarpet": [
           {
            "colorbar": {
             "outlinewidth": 0,
             "ticks": ""
            },
            "type": "contourcarpet"
           }
          ],
          "heatmap": [
           {
            "colorbar": {
             "outlinewidth": 0,
             "ticks": ""
            },
            "colorscale": [
             [
              0,
              "#0d0887"
             ],
             [
              0.1111111111111111,
              "#46039f"
             ],
             [
              0.2222222222222222,
              "#7201a8"
             ],
             [
              0.3333333333333333,
              "#9c179e"
             ],
             [
              0.4444444444444444,
              "#bd3786"
             ],
             [
              0.5555555555555556,
              "#d8576b"
             ],
             [
              0.6666666666666666,
              "#ed7953"
             ],
             [
              0.7777777777777778,
              "#fb9f3a"
             ],
             [
              0.8888888888888888,
              "#fdca26"
             ],
             [
              1,
              "#f0f921"
             ]
            ],
            "type": "heatmap"
           }
          ],
          "heatmapgl": [
           {
            "colorbar": {
             "outlinewidth": 0,
             "ticks": ""
            },
            "colorscale": [
             [
              0,
              "#0d0887"
             ],
             [
              0.1111111111111111,
              "#46039f"
             ],
             [
              0.2222222222222222,
              "#7201a8"
             ],
             [
              0.3333333333333333,
              "#9c179e"
             ],
             [
              0.4444444444444444,
              "#bd3786"
             ],
             [
              0.5555555555555556,
              "#d8576b"
             ],
             [
              0.6666666666666666,
              "#ed7953"
             ],
             [
              0.7777777777777778,
              "#fb9f3a"
             ],
             [
              0.8888888888888888,
              "#fdca26"
             ],
             [
              1,
              "#f0f921"
             ]
            ],
            "type": "heatmapgl"
           }
          ],
          "histogram": [
           {
            "marker": {
             "pattern": {
              "fillmode": "overlay",
              "size": 10,
              "solidity": 0.2
             }
            },
            "type": "histogram"
           }
          ],
          "histogram2d": [
           {
            "colorbar": {
             "outlinewidth": 0,
             "ticks": ""
            },
            "colorscale": [
             [
              0,
              "#0d0887"
             ],
             [
              0.1111111111111111,
              "#46039f"
             ],
             [
              0.2222222222222222,
              "#7201a8"
             ],
             [
              0.3333333333333333,
              "#9c179e"
             ],
             [
              0.4444444444444444,
              "#bd3786"
             ],
             [
              0.5555555555555556,
              "#d8576b"
             ],
             [
              0.6666666666666666,
              "#ed7953"
             ],
             [
              0.7777777777777778,
              "#fb9f3a"
             ],
             [
              0.8888888888888888,
              "#fdca26"
             ],
             [
              1,
              "#f0f921"
             ]
            ],
            "type": "histogram2d"
           }
          ],
          "histogram2dcontour": [
           {
            "colorbar": {
             "outlinewidth": 0,
             "ticks": ""
            },
            "colorscale": [
             [
              0,
              "#0d0887"
             ],
             [
              0.1111111111111111,
              "#46039f"
             ],
             [
              0.2222222222222222,
              "#7201a8"
             ],
             [
              0.3333333333333333,
              "#9c179e"
             ],
             [
              0.4444444444444444,
              "#bd3786"
             ],
             [
              0.5555555555555556,
              "#d8576b"
             ],
             [
              0.6666666666666666,
              "#ed7953"
             ],
             [
              0.7777777777777778,
              "#fb9f3a"
             ],
             [
              0.8888888888888888,
              "#fdca26"
             ],
             [
              1,
              "#f0f921"
             ]
            ],
            "type": "histogram2dcontour"
           }
          ],
          "mesh3d": [
           {
            "colorbar": {
             "outlinewidth": 0,
             "ticks": ""
            },
            "type": "mesh3d"
           }
          ],
          "parcoords": [
           {
            "line": {
             "colorbar": {
              "outlinewidth": 0,
              "ticks": ""
             }
            },
            "type": "parcoords"
           }
          ],
          "pie": [
           {
            "automargin": true,
            "type": "pie"
           }
          ],
          "scatter": [
           {
            "fillpattern": {
             "fillmode": "overlay",
             "size": 10,
             "solidity": 0.2
            },
            "type": "scatter"
           }
          ],
          "scatter3d": [
           {
            "line": {
             "colorbar": {
              "outlinewidth": 0,
              "ticks": ""
             }
            },
            "marker": {
             "colorbar": {
              "outlinewidth": 0,
              "ticks": ""
             }
            },
            "type": "scatter3d"
           }
          ],
          "scattercarpet": [
           {
            "marker": {
             "colorbar": {
              "outlinewidth": 0,
              "ticks": ""
             }
            },
            "type": "scattercarpet"
           }
          ],
          "scattergeo": [
           {
            "marker": {
             "colorbar": {
              "outlinewidth": 0,
              "ticks": ""
             }
            },
            "type": "scattergeo"
           }
          ],
          "scattergl": [
           {
            "marker": {
             "colorbar": {
              "outlinewidth": 0,
              "ticks": ""
             }
            },
            "type": "scattergl"
           }
          ],
          "scattermapbox": [
           {
            "marker": {
             "colorbar": {
              "outlinewidth": 0,
              "ticks": ""
             }
            },
            "type": "scattermapbox"
           }
          ],
          "scatterpolar": [
           {
            "marker": {
             "colorbar": {
              "outlinewidth": 0,
              "ticks": ""
             }
            },
            "type": "scatterpolar"
           }
          ],
          "scatterpolargl": [
           {
            "marker": {
             "colorbar": {
              "outlinewidth": 0,
              "ticks": ""
             }
            },
            "type": "scatterpolargl"
           }
          ],
          "scatterternary": [
           {
            "marker": {
             "colorbar": {
              "outlinewidth": 0,
              "ticks": ""
             }
            },
            "type": "scatterternary"
           }
          ],
          "surface": [
           {
            "colorbar": {
             "outlinewidth": 0,
             "ticks": ""
            },
            "colorscale": [
             [
              0,
              "#0d0887"
             ],
             [
              0.1111111111111111,
              "#46039f"
             ],
             [
              0.2222222222222222,
              "#7201a8"
             ],
             [
              0.3333333333333333,
              "#9c179e"
             ],
             [
              0.4444444444444444,
              "#bd3786"
             ],
             [
              0.5555555555555556,
              "#d8576b"
             ],
             [
              0.6666666666666666,
              "#ed7953"
             ],
             [
              0.7777777777777778,
              "#fb9f3a"
             ],
             [
              0.8888888888888888,
              "#fdca26"
             ],
             [
              1,
              "#f0f921"
             ]
            ],
            "type": "surface"
           }
          ],
          "table": [
           {
            "cells": {
             "fill": {
              "color": "#EBF0F8"
             },
             "line": {
              "color": "white"
             }
            },
            "header": {
             "fill": {
              "color": "#C8D4E3"
             },
             "line": {
              "color": "white"
             }
            },
            "type": "table"
           }
          ]
         },
         "layout": {
          "annotationdefaults": {
           "arrowcolor": "#2a3f5f",
           "arrowhead": 0,
           "arrowwidth": 1
          },
          "autotypenumbers": "strict",
          "coloraxis": {
           "colorbar": {
            "outlinewidth": 0,
            "ticks": ""
           }
          },
          "colorscale": {
           "diverging": [
            [
             0,
             "#8e0152"
            ],
            [
             0.1,
             "#c51b7d"
            ],
            [
             0.2,
             "#de77ae"
            ],
            [
             0.3,
             "#f1b6da"
            ],
            [
             0.4,
             "#fde0ef"
            ],
            [
             0.5,
             "#f7f7f7"
            ],
            [
             0.6,
             "#e6f5d0"
            ],
            [
             0.7,
             "#b8e186"
            ],
            [
             0.8,
             "#7fbc41"
            ],
            [
             0.9,
             "#4d9221"
            ],
            [
             1,
             "#276419"
            ]
           ],
           "sequential": [
            [
             0,
             "#0d0887"
            ],
            [
             0.1111111111111111,
             "#46039f"
            ],
            [
             0.2222222222222222,
             "#7201a8"
            ],
            [
             0.3333333333333333,
             "#9c179e"
            ],
            [
             0.4444444444444444,
             "#bd3786"
            ],
            [
             0.5555555555555556,
             "#d8576b"
            ],
            [
             0.6666666666666666,
             "#ed7953"
            ],
            [
             0.7777777777777778,
             "#fb9f3a"
            ],
            [
             0.8888888888888888,
             "#fdca26"
            ],
            [
             1,
             "#f0f921"
            ]
           ],
           "sequentialminus": [
            [
             0,
             "#0d0887"
            ],
            [
             0.1111111111111111,
             "#46039f"
            ],
            [
             0.2222222222222222,
             "#7201a8"
            ],
            [
             0.3333333333333333,
             "#9c179e"
            ],
            [
             0.4444444444444444,
             "#bd3786"
            ],
            [
             0.5555555555555556,
             "#d8576b"
            ],
            [
             0.6666666666666666,
             "#ed7953"
            ],
            [
             0.7777777777777778,
             "#fb9f3a"
            ],
            [
             0.8888888888888888,
             "#fdca26"
            ],
            [
             1,
             "#f0f921"
            ]
           ]
          },
          "colorway": [
           "#636efa",
           "#EF553B",
           "#00cc96",
           "#ab63fa",
           "#FFA15A",
           "#19d3f3",
           "#FF6692",
           "#B6E880",
           "#FF97FF",
           "#FECB52"
          ],
          "font": {
           "color": "#2a3f5f"
          },
          "geo": {
           "bgcolor": "white",
           "lakecolor": "white",
           "landcolor": "#E5ECF6",
           "showlakes": true,
           "showland": true,
           "subunitcolor": "white"
          },
          "hoverlabel": {
           "align": "left"
          },
          "hovermode": "closest",
          "mapbox": {
           "style": "light"
          },
          "paper_bgcolor": "white",
          "plot_bgcolor": "#E5ECF6",
          "polar": {
           "angularaxis": {
            "gridcolor": "white",
            "linecolor": "white",
            "ticks": ""
           },
           "bgcolor": "#E5ECF6",
           "radialaxis": {
            "gridcolor": "white",
            "linecolor": "white",
            "ticks": ""
           }
          },
          "scene": {
           "xaxis": {
            "backgroundcolor": "#E5ECF6",
            "gridcolor": "white",
            "gridwidth": 2,
            "linecolor": "white",
            "showbackground": true,
            "ticks": "",
            "zerolinecolor": "white"
           },
           "yaxis": {
            "backgroundcolor": "#E5ECF6",
            "gridcolor": "white",
            "gridwidth": 2,
            "linecolor": "white",
            "showbackground": true,
            "ticks": "",
            "zerolinecolor": "white"
           },
           "zaxis": {
            "backgroundcolor": "#E5ECF6",
            "gridcolor": "white",
            "gridwidth": 2,
            "linecolor": "white",
            "showbackground": true,
            "ticks": "",
            "zerolinecolor": "white"
           }
          },
          "shapedefaults": {
           "line": {
            "color": "#2a3f5f"
           }
          },
          "ternary": {
           "aaxis": {
            "gridcolor": "white",
            "linecolor": "white",
            "ticks": ""
           },
           "baxis": {
            "gridcolor": "white",
            "linecolor": "white",
            "ticks": ""
           },
           "bgcolor": "#E5ECF6",
           "caxis": {
            "gridcolor": "white",
            "linecolor": "white",
            "ticks": ""
           }
          },
          "title": {
           "x": 0.05
          },
          "xaxis": {
           "automargin": true,
           "gridcolor": "white",
           "linecolor": "white",
           "ticks": "",
           "title": {
            "standoff": 15
           },
           "zerolinecolor": "white",
           "zerolinewidth": 2
          },
          "yaxis": {
           "automargin": true,
           "gridcolor": "white",
           "linecolor": "white",
           "ticks": "",
           "title": {
            "standoff": 15
           },
           "zerolinecolor": "white",
           "zerolinewidth": 2
          }
         }
        },
        "width": 600,
        "xaxis": {
         "autorange": true,
         "range": [
          -0.5,
          7.5
         ],
         "title": {
          "text": "Guidelines"
         },
         "type": "category"
        },
        "yaxis": {
         "autorange": true,
         "range": [
          -0.5,
          66.5
         ],
         "title": {
          "text": "Document"
         },
         "type": "category"
        }
       }
      },
      "image/png": "[encoded data removed]",
      "text/html": [
       "<div>                            <div id=\"2606c1b1-ee59-451e-8132-e2015d612e82\" class=\"plotly-graph-div\" style=\"height:1000px; width:600px;\"></div>            <script type=\"text/javascript\">                require([\"plotly\"], function(Plotly) {                    window.PLOTLYENV=window.PLOTLYENV || {};                                    if (document.getElementById(\"2606c1b1-ee59-451e-8132-e2015d612e82\")) {                    Plotly.newPlot(                        \"2606c1b1-ee59-451e-8132-e2015d612e82\",                        [{\"colorscale\":[[0,\"#97BC62\"],[0.5,\"#FA6775\"],[1,\"#A1D6E2\"]],\"hoverongaps\":false,\"showscale\":false,\"x\":[\"SR-1\",\"SR-2\",\"SR-3\",\"SR-4\",\"SR-5\",\"SR-6\",\"SR-7\",\"Q-7\"],\"xgap\":3,\"y\":[\"DOC-0\",\"DOC-1\",\"DOC-2\",\"DOC-3\",\"DOC-4\",\"DOC-5\",\"DOC-6\",\"DOC-7\",\"DOC-8\",\"DOC-9\",\"DOC-10\",\"DOC-11\",\"DOC-12\",\"DOC-13\",\"DOC-14\",\"DOC-15\",\"DOC-16\",\"DOC-17\",\"DOC-18\",\"DOC-19\",\"DOC-20\",\"DOC-21\",\"DOC-22\",\"DOC-23\",\"DOC-24\",\"DOC-25\",\"DOC-26\",\"DOC-27\",\"DOC-28\",\"DOC-29\",\"DOC-30\",\"DOC-31\",\"DOC-32\",\"DOC-33\",\"DOC-34\",\"DOC-35\",\"DOC-36\",\"DOC-37\",\"DOC-38\",\"DOC-39\",\"DOC-40\",\"DOC-41\",\"DOC-42\",\"DOC-43\",\"DOC-44\",\"DOC-45\",\"DOC-46\",\"DOC-47\",\"DOC-48\",\"DOC-49\",\"DOC-50\",\"DOC-51\",\"DOC-52\",\"DOC-53\",\"DOC-54\",\"DOC-55\",\"DOC-56\",\"DOC-57\",\"DOC-58\",\"DOC-59\",\"DOC-60\",\"DOC-61\",\"DOC-62\",\"DOC-63\",\"DOC-64\",\"DOC-65\",\"DOC-66\"],\"ygap\":3,\"z\":[[0,2,0,2,2,2,2,2],[0,2,0,0,2,2,2,2],[0,2,0,0,0,2,2,2],[2,2,2,2,2,2,2,2],[2,2,0,2,2,2,2,2],[0,2,2,0,2,2,2,2],[0,2,2,0,2,2,2,2],[0,2,0,0,2,2,0,2],[2,2,2,2,2,2,2,2],[2,2,0,2,2,2,2,2],[2,2,2,2,2,2,1,2],[2,2,0,2,2,2,2,2],[2,2,2,2,2,2,2,2],[2,2,2,2,2,2,2,2],[2,2,2,2,2,2,2,2],[2,2,0,2,2,2,2,2],[2,2,2,2,2,2,2,2],[2,2,2,2,2,2,2,2],[2,2,0,2,2,2,2,2],[2,0,2,2,2,2,2,2],[2,2,2,2,2,2,0,2],[2,2,0,2,2,2,0,2],[2,2,2,2,2,2,2,2],[2,0,2,2,2,2,2,2],[2,2,2,2,2,2,2,2],[2,2,2,2,2,2,2,2],[2,2,2,2,2,2,2,2],[2,2,0,2,2,2,2,2],[2,2,0,2,2,2,2,2],[2,2,0,2,2,2,2,2],[2,2,0,2,2,2,2,2],[2,2,0,2,2,2,2,2],[2,0,0,2,2,2,2,2],[2,0,0,0,2,2,2,2],[2,0,0,0,2,2,2,2],[2,0,0,0,2,2,0,2],[2,2,0,0,2,2,2,2],[2,0,0,0,2,2,0,2],[2,0,0,0,2,2,2,2],[2,0,0,0,2,2,2,2],[2,0,0,0,2,2,2,2],[0,0,0,0,0,2,2,2],[0,0,0,0,0,2,2,2],[0,0,0,0,0,2,2,2],[0,0,0,0,0,2,2,2],[0,0,0,0,0,2,2,2],[0,0,0,0,0,2,2,2],[0,0,0,0,0,2,0,2],[0,0,0,0,0,2,0,2],[0,0,2,0,0,2,2,2],[0,0,0,0,0,2,2,2],[0,0,0,0,0,2,0,2],[0,0,0,0,0,2,0,2],[0,0,0,0,0,2,0,2],[0,0,0,0,0,2,2,2],[0,0,0,0,0,2,2,2],[0,0,0,0,0,2,2,2],[0,0,0,0,0,2,2,2],[0,0,0,0,0,2,2,2],[0,0,0,0,0,2,2,2],[0,0,0,0,0,2,2,2],[0,0,0,0,0,2,2,2],[0,0,0,0,0,2,2,2],[0,0,0,0,0,2,2,2],[0,0,0,0,0,2,2,2],[0,0,0,0,0,2,2,2],[0,0,0,0,0,2,2,2]],\"type\":\"heatmap\"},{\"legendgroup\":\"Yes\",\"marker\":{\"color\":\"#97BC62\",\"size\":10},\"mode\":\"markers\",\"name\":\"Yes\",\"showlegend\":true,\"x\":[null],\"y\":[null],\"type\":\"scatter\"},{\"legendgroup\":\"No\",\"marker\":{\"color\":\"#FA6775\",\"size\":10},\"mode\":\"markers\",\"name\":\"No\",\"showlegend\":true,\"x\":[null],\"y\":[null],\"type\":\"scatter\"},{\"legendgroup\":\"NA\",\"marker\":{\"color\":\"#A1D6E2\",\"size\":10},\"mode\":\"markers\",\"name\":\"NA\",\"showlegend\":true,\"x\":[null],\"y\":[null],\"type\":\"scatter\"}],                        {\"template\":{\"data\":{\"histogram2dcontour\":[{\"type\":\"histogram2dcontour\",\"colorbar\":{\"outlinewidth\":0,\"ticks\":\"\"},\"colorscale\":[[0.0,\"#0d0887\"],[0.1111111111111111,\"#46039f\"],[0.2222222222222222,\"#7201a8\"],[0.3333333333333333,\"#9c179e\"],[0.4444444444444444,\"#bd3786\"],[0.5555555555555556,\"#d8576b\"],[0.6666666666666666,\"#ed7953\"],[0.7777777777777778,\"#fb9f3a\"],[0.8888888888888888,\"#fdca26\"],[1.0,\"#f0f921\"]]}],\"choropleth\":[{\"type\":\"choropleth\",\"colorbar\":{\"outlinewidth\":0,\"ticks\":\"\"}}],\"histogram2d\":[{\"type\":\"histogram2d\",\"colorbar\":{\"outlinewidth\":0,\"ticks\":\"\"},\"colorscale\":[[0.0,\"#0d0887\"],[0.1111111111111111,\"#46039f\"],[0.2222222222222222,\"#7201a8\"],[0.3333333333333333,\"#9c179e\"],[0.4444444444444444,\"#bd3786\"],[0.5555555555555556,\"#d8576b\"],[0.6666666666666666,\"#ed7953\"],[0.7777777777777778,\"#fb9f3a\"],[0.8888888888888888,\"#fdca26\"],[1.0,\"#f0f921\"]]}],\"heatmap\":[{\"type\":\"heatmap\",\"colorbar\":{\"outlinewidth\":0,\"ticks\":\"\"},\"colorscale\":[[0.0,\"#0d0887\"],[0.1111111111111111,\"#46039f\"],[0.2222222222222222,\"#7201a8\"],[0.3333333333333333,\"#9c179e\"],[0.4444444444444444,\"#bd3786\"],[0.5555555555555556,\"#d8576b\"],[0.6666666666666666,\"#ed7953\"],[0.7777777777777778,\"#fb9f3a\"],[0.8888888888888888,\"#fdca26\"],[1.0,\"#f0f921\"]]}],\"heatmapgl\":[{\"type\":\"heatmapgl\",\"colorbar\":{\"outlinewidth\":0,\"ticks\":\"\"},\"colorscale\":[[0.0,\"#0d0887\"],[0.1111111111111111,\"#46039f\"],[0.2222222222222222,\"#7201a8\"],[0.3333333333333333,\"#9c179e\"],[0.4444444444444444,\"#bd3786\"],[0.5555555555555556,\"#d8576b\"],[0.6666666666666666,\"#ed7953\"],[0.7777777777777778,\"#fb9f3a\"],[0.8888888888888888,\"#fdca26\"],[1.0,\"#f0f921\"]]}],\"contourcarpet\":[{\"type\":\"contourcarpet\",\"colorbar\":{\"outlinewidth\":0,\"ticks\":\"\"}}],\"contour\":[{\"type\":\"contour\",\"colorbar\":{\"outlinewidth\":0,\"ticks\":\"\"},\"colorscale\":[[0.0,\"#0d0887\"],[0.1111111111111111,\"#46039f\"],[0.2222222222222222,\"#7201a8\"],[0.3333333333333333,\"#9c179e\"],[0.4444444444444444,\"#bd3786\"],[0.5555555555555556,\"#d8576b\"],[0.6666666666666666,\"#ed7953\"],[0.7777777777777778,\"#fb9f3a\"],[0.8888888888888888,\"#fdca26\"],[1.0,\"#f0f921\"]]}],\"surface\":[{\"type\":\"surface\",\"colorbar\":{\"outlinewidth\":0,\"ticks\":\"\"},\"colorscale\":[[0.0,\"#0d0887\"],[0.1111111111111111,\"#46039f\"],[0.2222222222222222,\"#7201a8\"],[0.3333333333333333,\"#9c179e\"],[0.4444444444444444,\"#bd3786\"],[0.5555555555555556,\"#d8576b\"],[0.6666666666666666,\"#ed7953\"],[0.7777777777777778,\"#fb9f3a\"],[0.8888888888888888,\"#fdca26\"],[1.0,\"#f0f921\"]]}],\"mesh3d\":[{\"type\":\"mesh3d\",\"colorbar\":{\"outlinewidth\":0,\"ticks\":\"\"}}],\"scatter\":[{\"fillpattern\":{\"fillmode\":\"overlay\",\"size\":10,\"solidity\":0.2},\"type\":\"scatter\"}],\"parcoords\":[{\"type\":\"parcoords\",\"line\":{\"colorbar\":{\"outlinewidth\":0,\"ticks\":\"\"}}}],\"scatterpolargl\":[{\"type\":\"scatterpolargl\",\"marker\":{\"colorbar\":{\"outlinewidth\":0,\"ticks\":\"\"}}}],\"bar\":[{\"error_x\":{\"color\":\"#2a3f5f\"},\"error_y\":{\"color\":\"#2a3f5f\"},\"marker\":{\"line\":{\"color\":\"#E5ECF6\",\"width\":0.5},\"pattern\":{\"fillmode\":\"overlay\",\"size\":10,\"solidity\":0.2}},\"type\":\"bar\"}],\"scattergeo\":[{\"type\":\"scattergeo\",\"marker\":{\"colorbar\":{\"outlinewidth\":0,\"ticks\":\"\"}}}],\"scatterpolar\":[{\"type\":\"scatterpolar\",\"marker\":{\"colorbar\":{\"outlinewidth\":0,\"ticks\":\"\"}}}],\"histogram\":[{\"marker\":{\"pattern\":{\"fillmode\":\"overlay\",\"size\":10,\"solidity\":0.2}},\"type\":\"histogram\"}],\"scattergl\":[{\"type\":\"scattergl\",\"marker\":{\"colorbar\":{\"outlinewidth\":0,\"ticks\":\"\"}}}],\"scatter3d\":[{\"type\":\"scatter3d\",\"line\":{\"colorbar\":{\"outlinewidth\":0,\"ticks\":\"\"}},\"marker\":{\"colorbar\":{\"outlinewidth\":0,\"ticks\":\"\"}}}],\"scattermapbox\":[{\"type\":\"scattermapbox\",\"marker\":{\"colorbar\":{\"outlinewidth\":0,\"ticks\":\"\"}}}],\"scatterternary\":[{\"type\":\"scatterternary\",\"marker\":{\"colorbar\":{\"outlinewidth\":0,\"ticks\":\"\"}}}],\"scattercarpet\":[{\"type\":\"scattercarpet\",\"marker\":{\"colorbar\":{\"outlinewidth\":0,\"ticks\":\"\"}}}],\"carpet\":[{\"aaxis\":{\"endlinecolor\":\"#2a3f5f\",\"gridcolor\":\"white\",\"linecolor\":\"white\",\"minorgridcolor\":\"white\",\"startlinecolor\":\"#2a3f5f\"},\"baxis\":{\"endlinecolor\":\"#2a3f5f\",\"gridcolor\":\"white\",\"linecolor\":\"white\",\"minorgridcolor\":\"white\",\"startlinecolor\":\"#2a3f5f\"},\"type\":\"carpet\"}],\"table\":[{\"cells\":{\"fill\":{\"color\":\"#EBF0F8\"},\"line\":{\"color\":\"white\"}},\"header\":{\"fill\":{\"color\":\"#C8D4E3\"},\"line\":{\"color\":\"white\"}},\"type\":\"table\"}],\"barpolar\":[{\"marker\":{\"line\":{\"color\":\"#E5ECF6\",\"width\":0.5},\"pattern\":{\"fillmode\":\"overlay\",\"size\":10,\"solidity\":0.2}},\"type\":\"barpolar\"}],\"pie\":[{\"automargin\":true,\"type\":\"pie\"}]},\"layout\":{\"autotypenumbers\":\"strict\",\"colorway\":[\"#636efa\",\"#EF553B\",\"#00cc96\",\"#ab63fa\",\"#FFA15A\",\"#19d3f3\",\"#FF6692\",\"#B6E880\",\"#FF97FF\",\"#FECB52\"],\"font\":{\"color\":\"#2a3f5f\"},\"hovermode\":\"closest\",\"hoverlabel\":{\"align\":\"left\"},\"paper_bgcolor\":\"white\",\"plot_bgcolor\":\"#E5ECF6\",\"polar\":{\"bgcolor\":\"#E5ECF6\",\"angularaxis\":{\"gridcolor\":\"white\",\"linecolor\":\"white\",\"ticks\":\"\"},\"radialaxis\":{\"gridcolor\":\"white\",\"linecolor\":\"white\",\"ticks\":\"\"}},\"ternary\":{\"bgcolor\":\"#E5ECF6\",\"aaxis\":{\"gridcolor\":\"white\",\"linecolor\":\"white\",\"ticks\":\"\"},\"baxis\":{\"gridcolor\":\"white\",\"linecolor\":\"white\",\"ticks\":\"\"},\"caxis\":{\"gridcolor\":\"white\",\"linecolor\":\"white\",\"ticks\":\"\"}},\"coloraxis\":{\"colorbar\":{\"outlinewidth\":0,\"ticks\":\"\"}},\"colorscale\":{\"sequential\":[[0.0,\"#0d0887\"],[0.1111111111111111,\"#46039f\"],[0.2222222222222222,\"#7201a8\"],[0.3333333333333333,\"#9c179e\"],[0.4444444444444444,\"#bd3786\"],[0.5555555555555556,\"#d8576b\"],[0.6666666666666666,\"#ed7953\"],[0.7777777777777778,\"#fb9f3a\"],[0.8888888888888888,\"#fdca26\"],[1.0,\"#f0f921\"]],\"sequentialminus\":[[0.0,\"#0d0887\"],[0.1111111111111111,\"#46039f\"],[0.2222222222222222,\"#7201a8\"],[0.3333333333333333,\"#9c179e\"],[0.4444444444444444,\"#bd3786\"],[0.5555555555555556,\"#d8576b\"],[0.6666666666666666,\"#ed7953\"],[0.7777777777777778,\"#fb9f3a\"],[0.8888888888888888,\"#fdca26\"],[1.0,\"#f0f921\"]],\"diverging\":[[0,\"#8e0152\"],[0.1,\"#c51b7d\"],[0.2,\"#de77ae\"],[0.3,\"#f1b6da\"],[0.4,\"#fde0ef\"],[0.5,\"#f7f7f7\"],[0.6,\"#e6f5d0\"],[0.7,\"#b8e186\"],[0.8,\"#7fbc41\"],[0.9,\"#4d9221\"],[1,\"#276419\"]]},\"xaxis\":{\"gridcolor\":\"white\",\"linecolor\":\"white\",\"ticks\":\"\",\"title\":{\"standoff\":15},\"zerolinecolor\":\"white\",\"automargin\":true,\"zerolinewidth\":2},\"yaxis\":{\"gridcolor\":\"white\",\"linecolor\":\"white\",\"ticks\":\"\",\"title\":{\"standoff\":15},\"zerolinecolor\":\"white\",\"automargin\":true,\"zerolinewidth\":2},\"scene\":{\"xaxis\":{\"backgroundcolor\":\"#E5ECF6\",\"gridcolor\":\"white\",\"linecolor\":\"white\",\"showbackground\":true,\"ticks\":\"\",\"zerolinecolor\":\"white\",\"gridwidth\":2},\"yaxis\":{\"backgroundcolor\":\"#E5ECF6\",\"gridcolor\":\"white\",\"linecolor\":\"white\",\"showbackground\":true,\"ticks\":\"\",\"zerolinecolor\":\"white\",\"gridwidth\":2},\"zaxis\":{\"backgroundcolor\":\"#E5ECF6\",\"gridcolor\":\"white\",\"linecolor\":\"white\",\"showbackground\":true,\"ticks\":\"\",\"zerolinecolor\":\"white\",\"gridwidth\":2}},\"shapedefaults\":{\"line\":{\"color\":\"#2a3f5f\"}},\"annotationdefaults\":{\"arrowcolor\":\"#2a3f5f\",\"arrowhead\":0,\"arrowwidth\":1},\"geo\":{\"bgcolor\":\"white\",\"landcolor\":\"#E5ECF6\",\"subunitcolor\":\"white\",\"showland\":true,\"showlakes\":true,\"lakecolor\":\"white\"},\"title\":{\"x\":0.05},\"mapbox\":{\"style\":\"light\"}}},\"margin\":{\"t\":50,\"l\":50,\"b\":50,\"r\":50},\"xaxis\":{\"title\":{\"text\":\"Guidelines\"}},\"yaxis\":{\"title\":{\"text\":\"Document\"}},\"legend\":{\"title\":{\"text\":\"Compliancy\"}},\"width\":600,\"height\":1000},                        {\"responsive\": true}                    ).then(function(){\n",
       "                            \n",
       "var gd = document.getElementById('2606c1b1-ee59-451e-8132-e2015d612e82');\n",
       "var x = new MutationObserver(function (mutations, observer) {{\n",
       "        var display = window.getComputedStyle(gd).display;\n",
       "        if (!display || display === 'none') {{\n",
       "            console.log([gd, 'removed!']);\n",
       "            Plotly.purge(gd);\n",
       "            observer.disconnect();\n",
       "        }}\n",
       "}});\n",
       "\n",
       "// Listen for the removal of the full notebook cells\n",
       "var notebookContainer = gd.closest('#notebook-container');\n",
       "if (notebookContainer) {{\n",
       "    x.observe(notebookContainer, {childList: true});\n",
       "}}\n",
       "\n",
       "// Listen for the clearing of the current output cell\n",
       "var outputEl = gd.closest('.output');\n",
       "if (outputEl) {{\n",
       "    x.observe(outputEl, {childList: true});\n",
       "}}\n",
       "\n",
       "                        })                };                });            </script>        </div>"
      ]
     },
     "metadata": {},
     "output_type": "display_data"
    }
   ],
   "source": [
    "plot_heatmap(risk)"
   ]
  },
  {
   "cell_type": "code",
   "execution_count": 180,
   "id": "bf1e9d92-9bd2-4365-b237-541cf3d03b2d",
   "metadata": {},
   "outputs": [],
   "source": [
    "def plot_heatmap_1(df, generate_labels=True):\n",
    "    # Map the dataframe values to a numeric scale\n",
    "    data_numeric = df.applymap(lambda x: 0 if x == 'Yes' else 1 if x == 'No' else 2)\n",
    "    \n",
    "    # Plotly Heatmap\n",
    "    fig = go.Figure(data=go.Heatmap(\n",
    "        z=data_numeric,  # Data as is\n",
    "        x=data_numeric.columns,  # Questions\n",
    "        y=data_numeric.index,  # Documents\n",
    "        colorscale=[(0, '#97BC62'), (0.5, '#FA6775'), (1, '#A1D6E2')],  # Color scale\n",
    "        showscale=False,  # Hide color scale bar\n",
    "        hoverongaps=False,  # Show hover info even for \"gaps\" in the data\n",
    "        xgap=3,  # Creates gaps between columns to simulate borders\n",
    "        ygap=3,  # Creates gaps between rows to simulate borders\n",
    "    ))\n",
    "    \n",
    "    # Customize the layout with increased title and legend font sizes\n",
    "    fig.update_layout(\n",
    "        title={\n",
    "            'text': '(iv) Compliancy of Impact & Risk Guidelines',\n",
    "            'x':0.5,\n",
    "            'font': dict(size=20),  # Increase title font size here\n",
    "        },\n",
    "        legend_title_text='Compliancy',\n",
    "        legend_title_font=dict(size=20),  # Increase legend title font size here\n",
    "        legend_font=dict(size=18),  # Increase legend item font size here\n",
    "        xaxis_title=\"Guidelines\",\n",
    "        yaxis_title=\"Document\",\n",
    "        width=600,\n",
    "        height=1000,\n",
    "        margin=dict(t=50, l=50, b=50, r=50),\n",
    "    )\n",
    "\n",
    "    fig.update_xaxes(title_text='Guidelines', title_font=dict(size=20))  # Set x-axis title font size\n",
    "    fig.update_yaxes(title_text='Document', title_font=dict(size=20))    # Set y-axis title font size\n",
    "    fig.update_yaxes(visible=False, showticklabels=False)\n",
    "    \n",
    "    # Adding custom legend for colors\n",
    "    legend_labels = ['Yes', 'No', 'NA']\n",
    "    legend_colors = ['#97BC62', '#FA6775', '#A1D6E2']\n",
    "\n",
    "    for i, (label, color) in enumerate(zip(legend_labels, legend_colors)):\n",
    "        fig.add_trace(go.Scatter(x=[None], y=[None], mode='markers',\n",
    "                                 marker=dict(size=100000, color=color),\n",
    "                                 legendgroup=label, showlegend=True,\n",
    "                                 name=label))\n",
    "    fig.show()\n",
    "\n",
    "# Example usage with a DataFrame 'df'\n",
    "# plot_heatmap(df)"
   ]
  },
  {
   "cell_type": "code",
   "execution_count": 181,
   "id": "2b0fda1c-7c2a-4222-80d0-4f5f7dcd0b00",
   "metadata": {},
   "outputs": [
    {
     "data": {
      "application/vnd.plotly.v1+json": {
       "config": {
        "plotlyServerURL": "https://plot.ly"
       },
       "data": [
        {
         "colorscale": [
          [
           0,
           "#97BC62"
          ],
          [
           0.5,
           "#FA6775"
          ],
          [
           1,
           "#A1D6E2"
          ]
         ],
         "hoverongaps": false,
         "showscale": false,
         "type": "heatmap",
         "x": [
          "SR-1",
          "SR-2",
          "SR-3",
          "SR-4",
          "SR-5",
          "SR-6",
          "SR-7",
          "Q-7"
         ],
         "xgap": 3,
         "y": [
          "DOC-0",
          "DOC-1",
          "DOC-2",
          "DOC-3",
          "DOC-4",
          "DOC-5",
          "DOC-6",
          "DOC-7",
          "DOC-8",
          "DOC-9",
          "DOC-10",
          "DOC-11",
          "DOC-12",
          "DOC-13",
          "DOC-14",
          "DOC-15",
          "DOC-16",
          "DOC-17",
          "DOC-18",
          "DOC-19",
          "DOC-20",
          "DOC-21",
          "DOC-22",
          "DOC-23",
          "DOC-24",
          "DOC-25",
          "DOC-26",
          "DOC-27",
          "DOC-28",
          "DOC-29",
          "DOC-30",
          "DOC-31",
          "DOC-32",
          "DOC-33",
          "DOC-34",
          "DOC-35",
          "DOC-36",
          "DOC-37",
          "DOC-38",
          "DOC-39",
          "DOC-40",
          "DOC-41",
          "DOC-42",
          "DOC-43",
          "DOC-44",
          "DOC-45",
          "DOC-46",
          "DOC-47",
          "DOC-48",
          "DOC-49",
          "DOC-50",
          "DOC-51",
          "DOC-52",
          "DOC-53",
          "DOC-54",
          "DOC-55",
          "DOC-56",
          "DOC-57",
          "DOC-58",
          "DOC-59",
          "DOC-60",
          "DOC-61",
          "DOC-62",
          "DOC-63",
          "DOC-64",
          "DOC-65",
          "DOC-66"
         ],
         "ygap": 3,
         "z": [
          [
           0,
           2,
           0,
           2,
           2,
           2,
           2,
           2
          ],
          [
           0,
           2,
           0,
           0,
           2,
           2,
           2,
           2
          ],
          [
           0,
           2,
           0,
           0,
           0,
           2,
           2,
           2
          ],
          [
           2,
           2,
           2,
           2,
           2,
           2,
           2,
           2
          ],
          [
           2,
           2,
           0,
           2,
           2,
           2,
           2,
           2
          ],
          [
           0,
           2,
           2,
           0,
           2,
           2,
           2,
           2
          ],
          [
           0,
           2,
           2,
           0,
           2,
           2,
           2,
           2
          ],
          [
           0,
           2,
           0,
           0,
           2,
           2,
           0,
           2
          ],
          [
           2,
           2,
           2,
           2,
           2,
           2,
           2,
           2
          ],
          [
           2,
           2,
           0,
           2,
           2,
           2,
           2,
           2
          ],
          [
           2,
           2,
           2,
           2,
           2,
           2,
           1,
           2
          ],
          [
           2,
           2,
           0,
           2,
           2,
           2,
           2,
           2
          ],
          [
           2,
           2,
           2,
           2,
           2,
           2,
           2,
           2
          ],
          [
           2,
           2,
           2,
           2,
           2,
           2,
           2,
           2
          ],
          [
           2,
           2,
           2,
           2,
           2,
           2,
           2,
           2
          ],
          [
           2,
           2,
           0,
           2,
           2,
           2,
           2,
           2
          ],
          [
           2,
           2,
           2,
           2,
           2,
           2,
           2,
           2
          ],
          [
           2,
           2,
           2,
           2,
           2,
           2,
           2,
           2
          ],
          [
           2,
           2,
           0,
           2,
           2,
           2,
           2,
           2
          ],
          [
           2,
           0,
           2,
           2,
           2,
           2,
           2,
           2
          ],
          [
           2,
           2,
           2,
           2,
           2,
           2,
           0,
           2
          ],
          [
           2,
           2,
           0,
           2,
           2,
           2,
           0,
           2
          ],
          [
           2,
           2,
           2,
           2,
           2,
           2,
           2,
           2
          ],
          [
           2,
           0,
           2,
           2,
           2,
           2,
           2,
           2
          ],
          [
           2,
           2,
           2,
           2,
           2,
           2,
           2,
           2
          ],
          [
           2,
           2,
           2,
           2,
           2,
           2,
           2,
           2
          ],
          [
           2,
           2,
           2,
           2,
           2,
           2,
           2,
           2
          ],
          [
           2,
           2,
           0,
           2,
           2,
           2,
           2,
           2
          ],
          [
           2,
           2,
           0,
           2,
           2,
           2,
           2,
           2
          ],
          [
           2,
           2,
           0,
           2,
           2,
           2,
           2,
           2
          ],
          [
           2,
           2,
           0,
           2,
           2,
           2,
           2,
           2
          ],
          [
           2,
           2,
           0,
           2,
           2,
           2,
           2,
           2
          ],
          [
           2,
           0,
           0,
           2,
           2,
           2,
           2,
           2
          ],
          [
           2,
           0,
           0,
           0,
           2,
           2,
           2,
           2
          ],
          [
           2,
           0,
           0,
           0,
           2,
           2,
           2,
           2
          ],
          [
           2,
           0,
           0,
           0,
           2,
           2,
           0,
           2
          ],
          [
           2,
           2,
           0,
           0,
           2,
           2,
           2,
           2
          ],
          [
           2,
           0,
           0,
           0,
           2,
           2,
           0,
           2
          ],
          [
           2,
           0,
           0,
           0,
           2,
           2,
           2,
           2
          ],
          [
           2,
           0,
           0,
           0,
           2,
           2,
           2,
           2
          ],
          [
           2,
           0,
           0,
           0,
           2,
           2,
           2,
           2
          ],
          [
           0,
           0,
           0,
           0,
           0,
           2,
           2,
           2
          ],
          [
           0,
           0,
           0,
           0,
           0,
           2,
           2,
           2
          ],
          [
           0,
           0,
           0,
           0,
           0,
           2,
           2,
           2
          ],
          [
           0,
           0,
           0,
           0,
           0,
           2,
           2,
           2
          ],
          [
           0,
           0,
           0,
           0,
           0,
           2,
           2,
           2
          ],
          [
           0,
           0,
           0,
           0,
           0,
           2,
           2,
           2
          ],
          [
           0,
           0,
           0,
           0,
           0,
           2,
           0,
           2
          ],
          [
           0,
           0,
           0,
           0,
           0,
           2,
           0,
           2
          ],
          [
           0,
           0,
           2,
           0,
           0,
           2,
           2,
           2
          ],
          [
           0,
           0,
           0,
           0,
           0,
           2,
           2,
           2
          ],
          [
           0,
           0,
           0,
           0,
           0,
           2,
           0,
           2
          ],
          [
           0,
           0,
           0,
           0,
           0,
           2,
           0,
           2
          ],
          [
           0,
           0,
           0,
           0,
           0,
           2,
           0,
           2
          ],
          [
           0,
           0,
           0,
           0,
           0,
           2,
           2,
           2
          ],
          [
           0,
           0,
           0,
           0,
           0,
           2,
           2,
           2
          ],
          [
           0,
           0,
           0,
           0,
           0,
           2,
           2,
           2
          ],
          [
           0,
           0,
           0,
           0,
           0,
           2,
           2,
           2
          ],
          [
           0,
           0,
           0,
           0,
           0,
           2,
           2,
           2
          ],
          [
           0,
           0,
           0,
           0,
           0,
           2,
           2,
           2
          ],
          [
           0,
           0,
           0,
           0,
           0,
           2,
           2,
           2
          ],
          [
           0,
           0,
           0,
           0,
           0,
           2,
           2,
           2
          ],
          [
           0,
           0,
           0,
           0,
           0,
           2,
           2,
           2
          ],
          [
           0,
           0,
           0,
           0,
           0,
           2,
           2,
           2
          ],
          [
           0,
           0,
           0,
           0,
           0,
           2,
           2,
           2
          ],
          [
           0,
           0,
           0,
           0,
           0,
           2,
           2,
           2
          ],
          [
           0,
           0,
           0,
           0,
           0,
           2,
           2,
           2
          ]
         ]
        },
        {
         "legendgroup": "Yes",
         "marker": {
          "color": "#97BC62",
          "size": 100000
         },
         "mode": "markers",
         "name": "Yes",
         "showlegend": true,
         "type": "scatter",
         "x": [
          null
         ],
         "y": [
          null
         ]
        },
        {
         "legendgroup": "No",
         "marker": {
          "color": "#FA6775",
          "size": 100000
         },
         "mode": "markers",
         "name": "No",
         "showlegend": true,
         "type": "scatter",
         "x": [
          null
         ],
         "y": [
          null
         ]
        },
        {
         "legendgroup": "NA",
         "marker": {
          "color": "#A1D6E2",
          "size": 100000
         },
         "mode": "markers",
         "name": "NA",
         "showlegend": true,
         "type": "scatter",
         "x": [
          null
         ],
         "y": [
          null
         ]
        }
       ],
       "layout": {
        "height": 1000,
        "legend": {
         "font": {
          "size": 18
         },
         "title": {
          "font": {
           "size": 20
          },
          "text": "Compliancy"
         }
        },
        "margin": {
         "b": 50,
         "l": 50,
         "r": 50,
         "t": 50
        },
        "template": {
         "data": {
          "bar": [
           {
            "error_x": {
             "color": "#2a3f5f"
            },
            "error_y": {
             "color": "#2a3f5f"
            },
            "marker": {
             "line": {
              "color": "#E5ECF6",
              "width": 0.5
             },
             "pattern": {
              "fillmode": "overlay",
              "size": 10,
              "solidity": 0.2
             }
            },
            "type": "bar"
           }
          ],
          "barpolar": [
           {
            "marker": {
             "line": {
              "color": "#E5ECF6",
              "width": 0.5
             },
             "pattern": {
              "fillmode": "overlay",
              "size": 10,
              "solidity": 0.2
             }
            },
            "type": "barpolar"
           }
          ],
          "carpet": [
           {
            "aaxis": {
             "endlinecolor": "#2a3f5f",
             "gridcolor": "white",
             "linecolor": "white",
             "minorgridcolor": "white",
             "startlinecolor": "#2a3f5f"
            },
            "baxis": {
             "endlinecolor": "#2a3f5f",
             "gridcolor": "white",
             "linecolor": "white",
             "minorgridcolor": "white",
             "startlinecolor": "#2a3f5f"
            },
            "type": "carpet"
           }
          ],
          "choropleth": [
           {
            "colorbar": {
             "outlinewidth": 0,
             "ticks": ""
            },
            "type": "choropleth"
           }
          ],
          "contour": [
           {
            "colorbar": {
             "outlinewidth": 0,
             "ticks": ""
            },
            "colorscale": [
             [
              0,
              "#0d0887"
             ],
             [
              0.1111111111111111,
              "#46039f"
             ],
             [
              0.2222222222222222,
              "#7201a8"
             ],
             [
              0.3333333333333333,
              "#9c179e"
             ],
             [
              0.4444444444444444,
              "#bd3786"
             ],
             [
              0.5555555555555556,
              "#d8576b"
             ],
             [
              0.6666666666666666,
              "#ed7953"
             ],
             [
              0.7777777777777778,
              "#fb9f3a"
             ],
             [
              0.8888888888888888,
              "#fdca26"
             ],
             [
              1,
              "#f0f921"
             ]
            ],
            "type": "contour"
           }
          ],
          "contourcarpet": [
           {
            "colorbar": {
             "outlinewidth": 0,
             "ticks": ""
            },
            "type": "contourcarpet"
           }
          ],
          "heatmap": [
           {
            "colorbar": {
             "outlinewidth": 0,
             "ticks": ""
            },
            "colorscale": [
             [
              0,
              "#0d0887"
             ],
             [
              0.1111111111111111,
              "#46039f"
             ],
             [
              0.2222222222222222,
              "#7201a8"
             ],
             [
              0.3333333333333333,
              "#9c179e"
             ],
             [
              0.4444444444444444,
              "#bd3786"
             ],
             [
              0.5555555555555556,
              "#d8576b"
             ],
             [
              0.6666666666666666,
              "#ed7953"
             ],
             [
              0.7777777777777778,
              "#fb9f3a"
             ],
             [
              0.8888888888888888,
              "#fdca26"
             ],
             [
              1,
              "#f0f921"
             ]
            ],
            "type": "heatmap"
           }
          ],
          "heatmapgl": [
           {
            "colorbar": {
             "outlinewidth": 0,
             "ticks": ""
            },
            "colorscale": [
             [
              0,
              "#0d0887"
             ],
             [
              0.1111111111111111,
              "#46039f"
             ],
             [
              0.2222222222222222,
              "#7201a8"
             ],
             [
              0.3333333333333333,
              "#9c179e"
             ],
             [
              0.4444444444444444,
              "#bd3786"
             ],
             [
              0.5555555555555556,
              "#d8576b"
             ],
             [
              0.6666666666666666,
              "#ed7953"
             ],
             [
              0.7777777777777778,
              "#fb9f3a"
             ],
             [
              0.8888888888888888,
              "#fdca26"
             ],
             [
              1,
              "#f0f921"
             ]
            ],
            "type": "heatmapgl"
           }
          ],
          "histogram": [
           {
            "marker": {
             "pattern": {
              "fillmode": "overlay",
              "size": 10,
              "solidity": 0.2
             }
            },
            "type": "histogram"
           }
          ],
          "histogram2d": [
           {
            "colorbar": {
             "outlinewidth": 0,
             "ticks": ""
            },
            "colorscale": [
             [
              0,
              "#0d0887"
             ],
             [
              0.1111111111111111,
              "#46039f"
             ],
             [
              0.2222222222222222,
              "#7201a8"
             ],
             [
              0.3333333333333333,
              "#9c179e"
             ],
             [
              0.4444444444444444,
              "#bd3786"
             ],
             [
              0.5555555555555556,
              "#d8576b"
             ],
             [
              0.6666666666666666,
              "#ed7953"
             ],
             [
              0.7777777777777778,
              "#fb9f3a"
             ],
             [
              0.8888888888888888,
              "#fdca26"
             ],
             [
              1,
              "#f0f921"
             ]
            ],
            "type": "histogram2d"
           }
          ],
          "histogram2dcontour": [
           {
            "colorbar": {
             "outlinewidth": 0,
             "ticks": ""
            },
            "colorscale": [
             [
              0,
              "#0d0887"
             ],
             [
              0.1111111111111111,
              "#46039f"
             ],
             [
              0.2222222222222222,
              "#7201a8"
             ],
             [
              0.3333333333333333,
              "#9c179e"
             ],
             [
              0.4444444444444444,
              "#bd3786"
             ],
             [
              0.5555555555555556,
              "#d8576b"
             ],
             [
              0.6666666666666666,
              "#ed7953"
             ],
             [
              0.7777777777777778,
              "#fb9f3a"
             ],
             [
              0.8888888888888888,
              "#fdca26"
             ],
             [
              1,
              "#f0f921"
             ]
            ],
            "type": "histogram2dcontour"
           }
          ],
          "mesh3d": [
           {
            "colorbar": {
             "outlinewidth": 0,
             "ticks": ""
            },
            "type": "mesh3d"
           }
          ],
          "parcoords": [
           {
            "line": {
             "colorbar": {
              "outlinewidth": 0,
              "ticks": ""
             }
            },
            "type": "parcoords"
           }
          ],
          "pie": [
           {
            "automargin": true,
            "type": "pie"
           }
          ],
          "scatter": [
           {
            "fillpattern": {
             "fillmode": "overlay",
             "size": 10,
             "solidity": 0.2
            },
            "type": "scatter"
           }
          ],
          "scatter3d": [
           {
            "line": {
             "colorbar": {
              "outlinewidth": 0,
              "ticks": ""
             }
            },
            "marker": {
             "colorbar": {
              "outlinewidth": 0,
              "ticks": ""
             }
            },
            "type": "scatter3d"
           }
          ],
          "scattercarpet": [
           {
            "marker": {
             "colorbar": {
              "outlinewidth": 0,
              "ticks": ""
             }
            },
            "type": "scattercarpet"
           }
          ],
          "scattergeo": [
           {
            "marker": {
             "colorbar": {
              "outlinewidth": 0,
              "ticks": ""
             }
            },
            "type": "scattergeo"
           }
          ],
          "scattergl": [
           {
            "marker": {
             "colorbar": {
              "outlinewidth": 0,
              "ticks": ""
             }
            },
            "type": "scattergl"
           }
          ],
          "scattermapbox": [
           {
            "marker": {
             "colorbar": {
              "outlinewidth": 0,
              "ticks": ""
             }
            },
            "type": "scattermapbox"
           }
          ],
          "scatterpolar": [
           {
            "marker": {
             "colorbar": {
              "outlinewidth": 0,
              "ticks": ""
             }
            },
            "type": "scatterpolar"
           }
          ],
          "scatterpolargl": [
           {
            "marker": {
             "colorbar": {
              "outlinewidth": 0,
              "ticks": ""
             }
            },
            "type": "scatterpolargl"
           }
          ],
          "scatterternary": [
           {
            "marker": {
             "colorbar": {
              "outlinewidth": 0,
              "ticks": ""
             }
            },
            "type": "scatterternary"
           }
          ],
          "surface": [
           {
            "colorbar": {
             "outlinewidth": 0,
             "ticks": ""
            },
            "colorscale": [
             [
              0,
              "#0d0887"
             ],
             [
              0.1111111111111111,
              "#46039f"
             ],
             [
              0.2222222222222222,
              "#7201a8"
             ],
             [
              0.3333333333333333,
              "#9c179e"
             ],
             [
              0.4444444444444444,
              "#bd3786"
             ],
             [
              0.5555555555555556,
              "#d8576b"
             ],
             [
              0.6666666666666666,
              "#ed7953"
             ],
             [
              0.7777777777777778,
              "#fb9f3a"
             ],
             [
              0.8888888888888888,
              "#fdca26"
             ],
             [
              1,
              "#f0f921"
             ]
            ],
            "type": "surface"
           }
          ],
          "table": [
           {
            "cells": {
             "fill": {
              "color": "#EBF0F8"
             },
             "line": {
              "color": "white"
             }
            },
            "header": {
             "fill": {
              "color": "#C8D4E3"
             },
             "line": {
              "color": "white"
             }
            },
            "type": "table"
           }
          ]
         },
         "layout": {
          "annotationdefaults": {
           "arrowcolor": "#2a3f5f",
           "arrowhead": 0,
           "arrowwidth": 1
          },
          "autotypenumbers": "strict",
          "coloraxis": {
           "colorbar": {
            "outlinewidth": 0,
            "ticks": ""
           }
          },
          "colorscale": {
           "diverging": [
            [
             0,
             "#8e0152"
            ],
            [
             0.1,
             "#c51b7d"
            ],
            [
             0.2,
             "#de77ae"
            ],
            [
             0.3,
             "#f1b6da"
            ],
            [
             0.4,
             "#fde0ef"
            ],
            [
             0.5,
             "#f7f7f7"
            ],
            [
             0.6,
             "#e6f5d0"
            ],
            [
             0.7,
             "#b8e186"
            ],
            [
             0.8,
             "#7fbc41"
            ],
            [
             0.9,
             "#4d9221"
            ],
            [
             1,
             "#276419"
            ]
           ],
           "sequential": [
            [
             0,
             "#0d0887"
            ],
            [
             0.1111111111111111,
             "#46039f"
            ],
            [
             0.2222222222222222,
             "#7201a8"
            ],
            [
             0.3333333333333333,
             "#9c179e"
            ],
            [
             0.4444444444444444,
             "#bd3786"
            ],
            [
             0.5555555555555556,
             "#d8576b"
            ],
            [
             0.6666666666666666,
             "#ed7953"
            ],
            [
             0.7777777777777778,
             "#fb9f3a"
            ],
            [
             0.8888888888888888,
             "#fdca26"
            ],
            [
             1,
             "#f0f921"
            ]
           ],
           "sequentialminus": [
            [
             0,
             "#0d0887"
            ],
            [
             0.1111111111111111,
             "#46039f"
            ],
            [
             0.2222222222222222,
             "#7201a8"
            ],
            [
             0.3333333333333333,
             "#9c179e"
            ],
            [
             0.4444444444444444,
             "#bd3786"
            ],
            [
             0.5555555555555556,
             "#d8576b"
            ],
            [
             0.6666666666666666,
             "#ed7953"
            ],
            [
             0.7777777777777778,
             "#fb9f3a"
            ],
            [
             0.8888888888888888,
             "#fdca26"
            ],
            [
             1,
             "#f0f921"
            ]
           ]
          },
          "colorway": [
           "#636efa",
           "#EF553B",
           "#00cc96",
           "#ab63fa",
           "#FFA15A",
           "#19d3f3",
           "#FF6692",
           "#B6E880",
           "#FF97FF",
           "#FECB52"
          ],
          "font": {
           "color": "#2a3f5f"
          },
          "geo": {
           "bgcolor": "white",
           "lakecolor": "white",
           "landcolor": "#E5ECF6",
           "showlakes": true,
           "showland": true,
           "subunitcolor": "white"
          },
          "hoverlabel": {
           "align": "left"
          },
          "hovermode": "closest",
          "mapbox": {
           "style": "light"
          },
          "paper_bgcolor": "white",
          "plot_bgcolor": "#E5ECF6",
          "polar": {
           "angularaxis": {
            "gridcolor": "white",
            "linecolor": "white",
            "ticks": ""
           },
           "bgcolor": "#E5ECF6",
           "radialaxis": {
            "gridcolor": "white",
            "linecolor": "white",
            "ticks": ""
           }
          },
          "scene": {
           "xaxis": {
            "backgroundcolor": "#E5ECF6",
            "gridcolor": "white",
            "gridwidth": 2,
            "linecolor": "white",
            "showbackground": true,
            "ticks": "",
            "zerolinecolor": "white"
           },
           "yaxis": {
            "backgroundcolor": "#E5ECF6",
            "gridcolor": "white",
            "gridwidth": 2,
            "linecolor": "white",
            "showbackground": true,
            "ticks": "",
            "zerolinecolor": "white"
           },
           "zaxis": {
            "backgroundcolor": "#E5ECF6",
            "gridcolor": "white",
            "gridwidth": 2,
            "linecolor": "white",
            "showbackground": true,
            "ticks": "",
            "zerolinecolor": "white"
           }
          },
          "shapedefaults": {
           "line": {
            "color": "#2a3f5f"
           }
          },
          "ternary": {
           "aaxis": {
            "gridcolor": "white",
            "linecolor": "white",
            "ticks": ""
           },
           "baxis": {
            "gridcolor": "white",
            "linecolor": "white",
            "ticks": ""
           },
           "bgcolor": "#E5ECF6",
           "caxis": {
            "gridcolor": "white",
            "linecolor": "white",
            "ticks": ""
           }
          },
          "title": {
           "x": 0.05
          },
          "xaxis": {
           "automargin": true,
           "gridcolor": "white",
           "linecolor": "white",
           "ticks": "",
           "title": {
            "standoff": 15
           },
           "zerolinecolor": "white",
           "zerolinewidth": 2
          },
          "yaxis": {
           "automargin": true,
           "gridcolor": "white",
           "linecolor": "white",
           "ticks": "",
           "title": {
            "standoff": 15
           },
           "zerolinecolor": "white",
           "zerolinewidth": 2
          }
         }
        },
        "title": {
         "font": {
          "size": 20
         },
         "text": "(iv) Compliancy of Impact & Risk Guidelines",
         "x": 0.5
        },
        "width": 600,
        "xaxis": {
         "autorange": true,
         "range": [
          -0.5,
          7.5
         ],
         "title": {
          "font": {
           "size": 20
          },
          "text": "Guidelines"
         },
         "type": "category"
        },
        "yaxis": {
         "autorange": true,
         "range": [
          -0.5,
          66.5
         ],
         "showticklabels": false,
         "title": {
          "font": {
           "size": 20
          },
          "text": "Document"
         },
         "type": "category",
         "visible": false
        }
       }
      },
      "image/png": "[encoded data removed]",
      "text/html": [
       "<div>                            <div id=\"e50b4219-dc76-4335-b578-b3e43e4339d1\" class=\"plotly-graph-div\" style=\"height:1000px; width:600px;\"></div>            <script type=\"text/javascript\">                require([\"plotly\"], function(Plotly) {                    window.PLOTLYENV=window.PLOTLYENV || {};                                    if (document.getElementById(\"e50b4219-dc76-4335-b578-b3e43e4339d1\")) {                    Plotly.newPlot(                        \"e50b4219-dc76-4335-b578-b3e43e4339d1\",                        [{\"colorscale\":[[0,\"#97BC62\"],[0.5,\"#FA6775\"],[1,\"#A1D6E2\"]],\"hoverongaps\":false,\"showscale\":false,\"x\":[\"SR-1\",\"SR-2\",\"SR-3\",\"SR-4\",\"SR-5\",\"SR-6\",\"SR-7\",\"Q-7\"],\"xgap\":3,\"y\":[\"DOC-0\",\"DOC-1\",\"DOC-2\",\"DOC-3\",\"DOC-4\",\"DOC-5\",\"DOC-6\",\"DOC-7\",\"DOC-8\",\"DOC-9\",\"DOC-10\",\"DOC-11\",\"DOC-12\",\"DOC-13\",\"DOC-14\",\"DOC-15\",\"DOC-16\",\"DOC-17\",\"DOC-18\",\"DOC-19\",\"DOC-20\",\"DOC-21\",\"DOC-22\",\"DOC-23\",\"DOC-24\",\"DOC-25\",\"DOC-26\",\"DOC-27\",\"DOC-28\",\"DOC-29\",\"DOC-30\",\"DOC-31\",\"DOC-32\",\"DOC-33\",\"DOC-34\",\"DOC-35\",\"DOC-36\",\"DOC-37\",\"DOC-38\",\"DOC-39\",\"DOC-40\",\"DOC-41\",\"DOC-42\",\"DOC-43\",\"DOC-44\",\"DOC-45\",\"DOC-46\",\"DOC-47\",\"DOC-48\",\"DOC-49\",\"DOC-50\",\"DOC-51\",\"DOC-52\",\"DOC-53\",\"DOC-54\",\"DOC-55\",\"DOC-56\",\"DOC-57\",\"DOC-58\",\"DOC-59\",\"DOC-60\",\"DOC-61\",\"DOC-62\",\"DOC-63\",\"DOC-64\",\"DOC-65\",\"DOC-66\"],\"ygap\":3,\"z\":[[0,2,0,2,2,2,2,2],[0,2,0,0,2,2,2,2],[0,2,0,0,0,2,2,2],[2,2,2,2,2,2,2,2],[2,2,0,2,2,2,2,2],[0,2,2,0,2,2,2,2],[0,2,2,0,2,2,2,2],[0,2,0,0,2,2,0,2],[2,2,2,2,2,2,2,2],[2,2,0,2,2,2,2,2],[2,2,2,2,2,2,1,2],[2,2,0,2,2,2,2,2],[2,2,2,2,2,2,2,2],[2,2,2,2,2,2,2,2],[2,2,2,2,2,2,2,2],[2,2,0,2,2,2,2,2],[2,2,2,2,2,2,2,2],[2,2,2,2,2,2,2,2],[2,2,0,2,2,2,2,2],[2,0,2,2,2,2,2,2],[2,2,2,2,2,2,0,2],[2,2,0,2,2,2,0,2],[2,2,2,2,2,2,2,2],[2,0,2,2,2,2,2,2],[2,2,2,2,2,2,2,2],[2,2,2,2,2,2,2,2],[2,2,2,2,2,2,2,2],[2,2,0,2,2,2,2,2],[2,2,0,2,2,2,2,2],[2,2,0,2,2,2,2,2],[2,2,0,2,2,2,2,2],[2,2,0,2,2,2,2,2],[2,0,0,2,2,2,2,2],[2,0,0,0,2,2,2,2],[2,0,0,0,2,2,2,2],[2,0,0,0,2,2,0,2],[2,2,0,0,2,2,2,2],[2,0,0,0,2,2,0,2],[2,0,0,0,2,2,2,2],[2,0,0,0,2,2,2,2],[2,0,0,0,2,2,2,2],[0,0,0,0,0,2,2,2],[0,0,0,0,0,2,2,2],[0,0,0,0,0,2,2,2],[0,0,0,0,0,2,2,2],[0,0,0,0,0,2,2,2],[0,0,0,0,0,2,2,2],[0,0,0,0,0,2,0,2],[0,0,0,0,0,2,0,2],[0,0,2,0,0,2,2,2],[0,0,0,0,0,2,2,2],[0,0,0,0,0,2,0,2],[0,0,0,0,0,2,0,2],[0,0,0,0,0,2,0,2],[0,0,0,0,0,2,2,2],[0,0,0,0,0,2,2,2],[0,0,0,0,0,2,2,2],[0,0,0,0,0,2,2,2],[0,0,0,0,0,2,2,2],[0,0,0,0,0,2,2,2],[0,0,0,0,0,2,2,2],[0,0,0,0,0,2,2,2],[0,0,0,0,0,2,2,2],[0,0,0,0,0,2,2,2],[0,0,0,0,0,2,2,2],[0,0,0,0,0,2,2,2],[0,0,0,0,0,2,2,2]],\"type\":\"heatmap\"},{\"legendgroup\":\"Yes\",\"marker\":{\"color\":\"#97BC62\",\"size\":100000},\"mode\":\"markers\",\"name\":\"Yes\",\"showlegend\":true,\"x\":[null],\"y\":[null],\"type\":\"scatter\"},{\"legendgroup\":\"No\",\"marker\":{\"color\":\"#FA6775\",\"size\":100000},\"mode\":\"markers\",\"name\":\"No\",\"showlegend\":true,\"x\":[null],\"y\":[null],\"type\":\"scatter\"},{\"legendgroup\":\"NA\",\"marker\":{\"color\":\"#A1D6E2\",\"size\":100000},\"mode\":\"markers\",\"name\":\"NA\",\"showlegend\":true,\"x\":[null],\"y\":[null],\"type\":\"scatter\"}],                        {\"template\":{\"data\":{\"histogram2dcontour\":[{\"type\":\"histogram2dcontour\",\"colorbar\":{\"outlinewidth\":0,\"ticks\":\"\"},\"colorscale\":[[0.0,\"#0d0887\"],[0.1111111111111111,\"#46039f\"],[0.2222222222222222,\"#7201a8\"],[0.3333333333333333,\"#9c179e\"],[0.4444444444444444,\"#bd3786\"],[0.5555555555555556,\"#d8576b\"],[0.6666666666666666,\"#ed7953\"],[0.7777777777777778,\"#fb9f3a\"],[0.8888888888888888,\"#fdca26\"],[1.0,\"#f0f921\"]]}],\"choropleth\":[{\"type\":\"choropleth\",\"colorbar\":{\"outlinewidth\":0,\"ticks\":\"\"}}],\"histogram2d\":[{\"type\":\"histogram2d\",\"colorbar\":{\"outlinewidth\":0,\"ticks\":\"\"},\"colorscale\":[[0.0,\"#0d0887\"],[0.1111111111111111,\"#46039f\"],[0.2222222222222222,\"#7201a8\"],[0.3333333333333333,\"#9c179e\"],[0.4444444444444444,\"#bd3786\"],[0.5555555555555556,\"#d8576b\"],[0.6666666666666666,\"#ed7953\"],[0.7777777777777778,\"#fb9f3a\"],[0.8888888888888888,\"#fdca26\"],[1.0,\"#f0f921\"]]}],\"heatmap\":[{\"type\":\"heatmap\",\"colorbar\":{\"outlinewidth\":0,\"ticks\":\"\"},\"colorscale\":[[0.0,\"#0d0887\"],[0.1111111111111111,\"#46039f\"],[0.2222222222222222,\"#7201a8\"],[0.3333333333333333,\"#9c179e\"],[0.4444444444444444,\"#bd3786\"],[0.5555555555555556,\"#d8576b\"],[0.6666666666666666,\"#ed7953\"],[0.7777777777777778,\"#fb9f3a\"],[0.8888888888888888,\"#fdca26\"],[1.0,\"#f0f921\"]]}],\"heatmapgl\":[{\"type\":\"heatmapgl\",\"colorbar\":{\"outlinewidth\":0,\"ticks\":\"\"},\"colorscale\":[[0.0,\"#0d0887\"],[0.1111111111111111,\"#46039f\"],[0.2222222222222222,\"#7201a8\"],[0.3333333333333333,\"#9c179e\"],[0.4444444444444444,\"#bd3786\"],[0.5555555555555556,\"#d8576b\"],[0.6666666666666666,\"#ed7953\"],[0.7777777777777778,\"#fb9f3a\"],[0.8888888888888888,\"#fdca26\"],[1.0,\"#f0f921\"]]}],\"contourcarpet\":[{\"type\":\"contourcarpet\",\"colorbar\":{\"outlinewidth\":0,\"ticks\":\"\"}}],\"contour\":[{\"type\":\"contour\",\"colorbar\":{\"outlinewidth\":0,\"ticks\":\"\"},\"colorscale\":[[0.0,\"#0d0887\"],[0.1111111111111111,\"#46039f\"],[0.2222222222222222,\"#7201a8\"],[0.3333333333333333,\"#9c179e\"],[0.4444444444444444,\"#bd3786\"],[0.5555555555555556,\"#d8576b\"],[0.6666666666666666,\"#ed7953\"],[0.7777777777777778,\"#fb9f3a\"],[0.8888888888888888,\"#fdca26\"],[1.0,\"#f0f921\"]]}],\"surface\":[{\"type\":\"surface\",\"colorbar\":{\"outlinewidth\":0,\"ticks\":\"\"},\"colorscale\":[[0.0,\"#0d0887\"],[0.1111111111111111,\"#46039f\"],[0.2222222222222222,\"#7201a8\"],[0.3333333333333333,\"#9c179e\"],[0.4444444444444444,\"#bd3786\"],[0.5555555555555556,\"#d8576b\"],[0.6666666666666666,\"#ed7953\"],[0.7777777777777778,\"#fb9f3a\"],[0.8888888888888888,\"#fdca26\"],[1.0,\"#f0f921\"]]}],\"mesh3d\":[{\"type\":\"mesh3d\",\"colorbar\":{\"outlinewidth\":0,\"ticks\":\"\"}}],\"scatter\":[{\"fillpattern\":{\"fillmode\":\"overlay\",\"size\":10,\"solidity\":0.2},\"type\":\"scatter\"}],\"parcoords\":[{\"type\":\"parcoords\",\"line\":{\"colorbar\":{\"outlinewidth\":0,\"ticks\":\"\"}}}],\"scatterpolargl\":[{\"type\":\"scatterpolargl\",\"marker\":{\"colorbar\":{\"outlinewidth\":0,\"ticks\":\"\"}}}],\"bar\":[{\"error_x\":{\"color\":\"#2a3f5f\"},\"error_y\":{\"color\":\"#2a3f5f\"},\"marker\":{\"line\":{\"color\":\"#E5ECF6\",\"width\":0.5},\"pattern\":{\"fillmode\":\"overlay\",\"size\":10,\"solidity\":0.2}},\"type\":\"bar\"}],\"scattergeo\":[{\"type\":\"scattergeo\",\"marker\":{\"colorbar\":{\"outlinewidth\":0,\"ticks\":\"\"}}}],\"scatterpolar\":[{\"type\":\"scatterpolar\",\"marker\":{\"colorbar\":{\"outlinewidth\":0,\"ticks\":\"\"}}}],\"histogram\":[{\"marker\":{\"pattern\":{\"fillmode\":\"overlay\",\"size\":10,\"solidity\":0.2}},\"type\":\"histogram\"}],\"scattergl\":[{\"type\":\"scattergl\",\"marker\":{\"colorbar\":{\"outlinewidth\":0,\"ticks\":\"\"}}}],\"scatter3d\":[{\"type\":\"scatter3d\",\"line\":{\"colorbar\":{\"outlinewidth\":0,\"ticks\":\"\"}},\"marker\":{\"colorbar\":{\"outlinewidth\":0,\"ticks\":\"\"}}}],\"scattermapbox\":[{\"type\":\"scattermapbox\",\"marker\":{\"colorbar\":{\"outlinewidth\":0,\"ticks\":\"\"}}}],\"scatterternary\":[{\"type\":\"scatterternary\",\"marker\":{\"colorbar\":{\"outlinewidth\":0,\"ticks\":\"\"}}}],\"scattercarpet\":[{\"type\":\"scattercarpet\",\"marker\":{\"colorbar\":{\"outlinewidth\":0,\"ticks\":\"\"}}}],\"carpet\":[{\"aaxis\":{\"endlinecolor\":\"#2a3f5f\",\"gridcolor\":\"white\",\"linecolor\":\"white\",\"minorgridcolor\":\"white\",\"startlinecolor\":\"#2a3f5f\"},\"baxis\":{\"endlinecolor\":\"#2a3f5f\",\"gridcolor\":\"white\",\"linecolor\":\"white\",\"minorgridcolor\":\"white\",\"startlinecolor\":\"#2a3f5f\"},\"type\":\"carpet\"}],\"table\":[{\"cells\":{\"fill\":{\"color\":\"#EBF0F8\"},\"line\":{\"color\":\"white\"}},\"header\":{\"fill\":{\"color\":\"#C8D4E3\"},\"line\":{\"color\":\"white\"}},\"type\":\"table\"}],\"barpolar\":[{\"marker\":{\"line\":{\"color\":\"#E5ECF6\",\"width\":0.5},\"pattern\":{\"fillmode\":\"overlay\",\"size\":10,\"solidity\":0.2}},\"type\":\"barpolar\"}],\"pie\":[{\"automargin\":true,\"type\":\"pie\"}]},\"layout\":{\"autotypenumbers\":\"strict\",\"colorway\":[\"#636efa\",\"#EF553B\",\"#00cc96\",\"#ab63fa\",\"#FFA15A\",\"#19d3f3\",\"#FF6692\",\"#B6E880\",\"#FF97FF\",\"#FECB52\"],\"font\":{\"color\":\"#2a3f5f\"},\"hovermode\":\"closest\",\"hoverlabel\":{\"align\":\"left\"},\"paper_bgcolor\":\"white\",\"plot_bgcolor\":\"#E5ECF6\",\"polar\":{\"bgcolor\":\"#E5ECF6\",\"angularaxis\":{\"gridcolor\":\"white\",\"linecolor\":\"white\",\"ticks\":\"\"},\"radialaxis\":{\"gridcolor\":\"white\",\"linecolor\":\"white\",\"ticks\":\"\"}},\"ternary\":{\"bgcolor\":\"#E5ECF6\",\"aaxis\":{\"gridcolor\":\"white\",\"linecolor\":\"white\",\"ticks\":\"\"},\"baxis\":{\"gridcolor\":\"white\",\"linecolor\":\"white\",\"ticks\":\"\"},\"caxis\":{\"gridcolor\":\"white\",\"linecolor\":\"white\",\"ticks\":\"\"}},\"coloraxis\":{\"colorbar\":{\"outlinewidth\":0,\"ticks\":\"\"}},\"colorscale\":{\"sequential\":[[0.0,\"#0d0887\"],[0.1111111111111111,\"#46039f\"],[0.2222222222222222,\"#7201a8\"],[0.3333333333333333,\"#9c179e\"],[0.4444444444444444,\"#bd3786\"],[0.5555555555555556,\"#d8576b\"],[0.6666666666666666,\"#ed7953\"],[0.7777777777777778,\"#fb9f3a\"],[0.8888888888888888,\"#fdca26\"],[1.0,\"#f0f921\"]],\"sequentialminus\":[[0.0,\"#0d0887\"],[0.1111111111111111,\"#46039f\"],[0.2222222222222222,\"#7201a8\"],[0.3333333333333333,\"#9c179e\"],[0.4444444444444444,\"#bd3786\"],[0.5555555555555556,\"#d8576b\"],[0.6666666666666666,\"#ed7953\"],[0.7777777777777778,\"#fb9f3a\"],[0.8888888888888888,\"#fdca26\"],[1.0,\"#f0f921\"]],\"diverging\":[[0,\"#8e0152\"],[0.1,\"#c51b7d\"],[0.2,\"#de77ae\"],[0.3,\"#f1b6da\"],[0.4,\"#fde0ef\"],[0.5,\"#f7f7f7\"],[0.6,\"#e6f5d0\"],[0.7,\"#b8e186\"],[0.8,\"#7fbc41\"],[0.9,\"#4d9221\"],[1,\"#276419\"]]},\"xaxis\":{\"gridcolor\":\"white\",\"linecolor\":\"white\",\"ticks\":\"\",\"title\":{\"standoff\":15},\"zerolinecolor\":\"white\",\"automargin\":true,\"zerolinewidth\":2},\"yaxis\":{\"gridcolor\":\"white\",\"linecolor\":\"white\",\"ticks\":\"\",\"title\":{\"standoff\":15},\"zerolinecolor\":\"white\",\"automargin\":true,\"zerolinewidth\":2},\"scene\":{\"xaxis\":{\"backgroundcolor\":\"#E5ECF6\",\"gridcolor\":\"white\",\"linecolor\":\"white\",\"showbackground\":true,\"ticks\":\"\",\"zerolinecolor\":\"white\",\"gridwidth\":2},\"yaxis\":{\"backgroundcolor\":\"#E5ECF6\",\"gridcolor\":\"white\",\"linecolor\":\"white\",\"showbackground\":true,\"ticks\":\"\",\"zerolinecolor\":\"white\",\"gridwidth\":2},\"zaxis\":{\"backgroundcolor\":\"#E5ECF6\",\"gridcolor\":\"white\",\"linecolor\":\"white\",\"showbackground\":true,\"ticks\":\"\",\"zerolinecolor\":\"white\",\"gridwidth\":2}},\"shapedefaults\":{\"line\":{\"color\":\"#2a3f5f\"}},\"annotationdefaults\":{\"arrowcolor\":\"#2a3f5f\",\"arrowhead\":0,\"arrowwidth\":1},\"geo\":{\"bgcolor\":\"white\",\"landcolor\":\"#E5ECF6\",\"subunitcolor\":\"white\",\"showland\":true,\"showlakes\":true,\"lakecolor\":\"white\"},\"title\":{\"x\":0.05},\"mapbox\":{\"style\":\"light\"}}},\"title\":{\"font\":{\"size\":20},\"text\":\"(iv) Compliancy of Impact & Risk Guidelines\",\"x\":0.5},\"legend\":{\"title\":{\"font\":{\"size\":20},\"text\":\"Compliancy\"},\"font\":{\"size\":18}},\"margin\":{\"t\":50,\"l\":50,\"b\":50,\"r\":50},\"xaxis\":{\"title\":{\"text\":\"Guidelines\",\"font\":{\"size\":20}}},\"yaxis\":{\"title\":{\"text\":\"Document\",\"font\":{\"size\":20}},\"visible\":false,\"showticklabels\":false},\"width\":600,\"height\":1000},                        {\"responsive\": true}                    ).then(function(){\n",
       "                            \n",
       "var gd = document.getElementById('e50b4219-dc76-4335-b578-b3e43e4339d1');\n",
       "var x = new MutationObserver(function (mutations, observer) {{\n",
       "        var display = window.getComputedStyle(gd).display;\n",
       "        if (!display || display === 'none') {{\n",
       "            console.log([gd, 'removed!']);\n",
       "            Plotly.purge(gd);\n",
       "            observer.disconnect();\n",
       "        }}\n",
       "}});\n",
       "\n",
       "// Listen for the removal of the full notebook cells\n",
       "var notebookContainer = gd.closest('#notebook-container');\n",
       "if (notebookContainer) {{\n",
       "    x.observe(notebookContainer, {childList: true});\n",
       "}}\n",
       "\n",
       "// Listen for the clearing of the current output cell\n",
       "var outputEl = gd.closest('.output');\n",
       "if (outputEl) {{\n",
       "    x.observe(outputEl, {childList: true});\n",
       "}}\n",
       "\n",
       "                        })                };                });            </script>        </div>"
      ]
     },
     "metadata": {},
     "output_type": "display_data"
    }
   ],
   "source": [
    "plot_heatmap_1(risk)"
   ]
  },
  {
   "cell_type": "code",
   "execution_count": null,
   "id": "66f5d975-b329-485a-aa12-619ccf9f3af4",
   "metadata": {},
   "outputs": [],
   "source": []
  },
  {
   "cell_type": "code",
   "execution_count": null,
   "id": "8311a46d-a9fe-4599-bacd-3d6baa08a984",
   "metadata": {},
   "outputs": [],
   "source": []
  },
  {
   "cell_type": "code",
   "execution_count": null,
   "id": "e10613f2-a42f-4428-8ce5-0df8bce87c50",
   "metadata": {},
   "outputs": [],
   "source": []
  }
 ],
 "metadata": {
  "kernelspec": {
   "display_name": "raa",
   "language": "python",
   "name": "raa"
  },
  "language_info": {
   "codemirror_mode": {
    "name": "ipython",
    "version": 3
   },
   "file_extension": ".py",
   "mimetype": "text/x-python",
   "name": "python",
   "nbconvert_exporter": "python",
   "pygments_lexer": "ipython3",
   "version": "3.8.0"
  }
 },
 "nbformat": 4,
 "nbformat_minor": 5
}
