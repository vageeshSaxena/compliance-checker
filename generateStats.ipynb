{
 "cells": [
  {
   "cell_type": "markdown",
   "id": "1b501c55-80bf-4c36-b771-466b038ba2c6",
   "metadata": {
    "tags": []
   },
   "source": [
    "# Importing libraries"
   ]
  },
  {
   "cell_type": "code",
   "execution_count": null,
   "id": "b2a6fc54-ec27-4a48-b23d-d7eea7725326",
   "metadata": {},
   "outputs": [],
   "source": [
    "import os\n",
    "import time\n",
    "from tqdm import tqdm\n",
    "from collections import Counter\n",
    "\n",
    "import pandas as pd\n",
    "\n",
    "import openai\n",
    "openai.api_key = \"ENTER-YOUR-OPEN-AI-KEY-HERE\"\n",
    "from openai.api_resources import embedding\n",
    "\n",
    "from langchain.chat_models import ChatOpenAI\n",
    "from langchain.document_loaders import PyPDFLoader\n",
    "from langchain.embeddings import OpenAIEmbeddings\n",
    "from langchain.indexes import VectorstoreIndexCreator"
   ]
  },
  {
   "cell_type": "markdown",
   "id": "9649d978-898f-41c7-b270-d67f2adaa444",
   "metadata": {},
   "source": [
    "# Queries"
   ]
  },
  {
   "cell_type": "code",
   "execution_count": 65,
   "id": "954f04fa-9ba6-4775-aa3c-0799532656a8",
   "metadata": {
    "tags": []
   },
   "outputs": [
    {
     "data": {
      "text/plain": [
       "['Authorship Attribution',\n",
       " 'Authorship Attribution Darknet',\n",
       " 'Authorship Attribution Dark Web',\n",
       " 'Authorship Attribution Cybercrime',\n",
       " 'Authorship Attribution Human Trafficking',\n",
       " 'Authorship Attribution Forensic Analysis']"
      ]
     },
     "execution_count": 65,
     "metadata": {},
     "output_type": "execute_result"
    }
   ],
   "source": [
    "keywords = ['Authorship Attribution', 'Authorship Attribution Darknet', 'Authorship Attribution Dark Web', 'Authorship Attribution Cybercrime', 'Authorship Attribution Human Trafficking', 'Authorship Attribution Forensic Analysis']\n",
    "keywords"
   ]
  },
  {
   "cell_type": "markdown",
   "id": "0c75cad1-1437-4fe0-84f9-d66ae78344b4",
   "metadata": {},
   "source": [
    "# Getting all the pdf documents"
   ]
  },
  {
   "cell_type": "code",
   "execution_count": 22,
   "id": "eb97937d-0644-41f7-88d9-9be090e349ab",
   "metadata": {
    "tags": []
   },
   "outputs": [],
   "source": [
    "all_docs = os.listdir(\"pdfs/\")\n",
    "all_docs = [os.path.join(os.getcwd(), \"pdfs\", docs) for docs in all_docs]\n",
    "\n",
    "# Deleting the faulty docs\n",
    "del all_docs[55]\n",
    "del all_docs[58]"
   ]
  },
  {
   "cell_type": "markdown",
   "id": "23321121-fbeb-4dff-92f1-d63f75324a07",
   "metadata": {},
   "source": [
    "# Getting list of all questions"
   ]
  },
  {
   "cell_type": "markdown",
   "id": "6dc88ce1-0ca5-4fe0-a17c-653417682726",
   "metadata": {},
   "source": [
    "The guidelines presented stem from the four foundational concepts outlined in our research paper. \"Privacy\" pertains to the principles of privacy and data protection, ensuring that individual rights are safeguarded. \"Bias\" addresses discrimination and unintended biases, highlighting the need for equitable and impartial AA applications. \"Transparency\" encompasses transparency and fairness, advocating for clear and open practices throughout the AA life cycle. Lastly, \"risk\" examines the societal impact, focusing on the broader implications of AA research and its applications on society. These guidelines are crafted to facilitate the identification and balancing of the benefits and potential ethical issues inherent in AA research, promoting the responsible use of AA tools."
   ]
  },
  {
   "cell_type": "code",
   "execution_count": 3,
   "id": "d1e0bdc1-577e-4340-b64f-80ada372108d",
   "metadata": {
    "tags": []
   },
   "outputs": [],
   "source": [
    "question_dictionary = {\n",
    "    \"privacy\" :  [\n",
    "    \"Does the Authorship Atttribution research/application involve a high level of risk, necessitating a Data Protection Impact Assessment (DPIA)? High-risk scenarios may include biometric identification, law enforcement, or justice system usage. If the relevant details are not available, just say Info not available. Otherwise answer it as yes or no. \",\n",
    "    \"Does the Authorship Atttribution processing encompass extensive automated processing leading to decisions with legal or significant effects on individuals? Are measures in place to prevent identity disclosure, reputational damage, or legal consequences? If the relevant details are not available, just say Info not available. Otherwise answer it as yes or no. \",\n",
    "    \"Is there a scientific purpose or objective justifying exemptions from GDPR provisions? If the relevant details are not available, just say Info not available. Otherwise answer it as yes or no. \",\n",
    "    \"Is data processing confined to the original purpose for which it was collected? Is there periodic assessment and review to ensure ongoing relevance? If the relevant details are not available, just say Info not available. Otherwise answer it as yes or no. \",\n",
    "    \"Does the dataset contain information enabling the identification of individuals? If the relevant details are not available, just say Info not available. Otherwise answer it as yes or no. \",\n",
    "    \"Have adequate safeguards like anonymization, encryption, data minimization, and security procedures been implemented to minimize risks and protect individual rights? Are these measures in line with guidelines from research and academic organizations, with ethical oversight? If the relevant details are not available, just say Info not available. Otherwise answer it as yes or no. \",\n",
    "    \"Is the information provided to individuals about data processing clear, complete, and correct? If the relevant details are not available, just say Info not available. Otherwise answer it as yes or no. \",\n",
    "],\n",
    "    \n",
    "    \"bias\" : [\n",
    "    \"Is there a specific label or target for each data instance, and how were these labels obtained? For manually annotated data, please provide details about the number of annotators, their backgrounds, and any measures taken to mitigate label bias. If the relevant details are not available, just say Info not available. Otherwise answer it as yes or no. \",\n",
    "    \"Does the training dataset sufficiently represent the entire authorship landscape, and what steps were taken to mitigate selection bias? If the relevant details are not available, just say Info not available. Otherwise answer it as yes or no. \",\n",
    "    \"Are there correlations between authors in the dataset and specific demographic attributes or population characteristics? If the relevant details are not available, just say Info not available. Otherwise answer it as yes or no. \",\n",
    "    \"Does the dataset cover multiple text genres or domains, and if not, what actions were taken to prevent biases related to domain and genre? If the relevant details are not available, just say Info not available. Otherwise answer it as yes or no. \",\n",
    "    \"Is there a class imbalance in the dataset, and what measures were implemented to avoid over-representing certain authors? Describe any sampling strategies used to address potential sampling bias. If the relevant details are not available, just say Info not available. Otherwise answer it as yes or no. \",\n",
    "    \"What feature extraction techniques were employed during training, and was fine-tuning performed on the target data? If the relevant details are not available, just say Info not available. Otherwise answer it as yes or no. \",\n",
    "    \"What precautions were taken to prevent overfitting and underfitting during model training? If the relevant details are not available, just say Info not available. Otherwise answer it as yes or no. \",\n",
    "    \"Do the chosen evaluation metrics align with the primary task objectives, and what insights can be provided about model generalization and robustness? If the relevant details are not available, just say Info not available. Otherwise answer it as yes or no. \",\n",
    "    \"Were independent blind assessments conducted by external evaluators, and can information about their backgrounds and diversity be provided? If the relevant details are not available, just say Info not available. Otherwise answer it as yes or no. \"\n",
    "],\n",
    "    \n",
    "    \"transparency\" : [\"Were any experiments conducted to gain insights into the model’s decision-making processes (XAI experiments)? If so, what were the key findings and outcomes of these experiments? If the relevant details are not available, just say Info not available. Otherwise answer it as yes or no.\"],\n",
    "    \n",
    "    \"risk\" : [\n",
    "    \"Is there a disclaimer to alert readers to potentially harmful content in the research? If the relevant details are not available, just say Info not available. Otherwise answer it as yes or no. \",\n",
    "    \"Does the Authorship Atttribution processing encompass systematic and extensive automated processing that leads to decisions with legal or significant effects on individuals? Are measures in place to prevent identity disclosure, reputational damage, or legal ramifications? If the relevant details are not available, just say Info not available. Otherwise answer it as yes or no. \",\n",
    "    \"Does the scope of the Authorship Atttribution model align with its intended purpose to minimize potential misuse? If the relevant details are not available, just say Info not available. Otherwise answer it as yes or no. \",\n",
    "    \"Is there a mechanism to mitigate the risk of potential misuse and abuse, including scenarios involving targeted harassment, social engineering, or the creation of deceptive content falsely attributed to others? If the relevant details are not available, just say Info not available. Otherwise answer it as yes or no. \",\n",
    "    \"Are there mechanisms for human oversight and intervention to review and reject content with ethical concerns? If the relevant details are not available, just say Info not available. Otherwise answer it as yes or no. \",\n",
    "    \"What measures are in place to minimize the potential trauma experienced by individuals during the design, development, and deployment stages? Are there regular check-ins among team members to ensure clear communication and provide essential support for maintaining a healthy and safe working environment? Is mental health and psychological support offered to team members dealing with harmful text? If the relevant details are not available, just say Info not available. Otherwise answer it as yes or no. \",\n",
    "    \"Is there a routine schedule of audits and updates to the Authorship Atttribution model to anticipate and address potential ethical challenges? Do these audits and updates help ensure the model remains aligned with evolving ethical standards and societal expectations? If the relevant details are not available, just say Info not available. Otherwise answer it as yes or no. \",\n",
    "    \"Are efficient algorithms and training strategies given priority to minimize the carbon footprint and energy consumption? Is carbon tracking employed to monitor and quantify carbon emissions during Authorship Atttribution model training, aiding in optimization and offsetting strategies? If the relevant details are not available, just say Info not available. Otherwise answer it as yes or no. \"\n",
    "]\n",
    "}"
   ]
  },
  {
   "cell_type": "markdown",
   "id": "91427f7e-2c67-45cd-a942-ecb19bc32091",
   "metadata": {},
   "source": [
    "To ensure clarity, it's important to define the responses \"NA\", \"Yes\", and \"No\" within the context of assessing research paper compliance with established responsible guidelines:\n",
    "\n",
    "1. \"NA\" (Not Available): This response indicates that the information necessary to determine compliance is missing or not provided in the research paper.\n",
    "2. \"Yes\": This response signifies that the research paper adheres to and is compliant with the established responsible guidelines.\n",
    "3. \"No\": This response denotes that the research paper fails to meet or is not compliant with the established responsible guidelines.\n",
    "\n",
    "These responses are used to quickly identify the status of a research paper's adherence to required compliance standards."
   ]
  },
  {
   "cell_type": "markdown",
   "id": "b0848435-af04-4cb2-b5e9-2d3884281d7c",
   "metadata": {},
   "source": [
    "Please be aware that while we recognize the potential for enhancing the system's effectiveness by subdividing the transparency and fairness guideline into more detailed subquestions, we must adhere to the Program Committee's directive that prohibits altering or introducing new experiments at this stage. Consequently, we have chosen to maintain the current structure without modification. Given an opportunity, we are prepared to advance our system by refining the guidelines related to transparency and fairness for improved efficacy."
   ]
  },
  {
   "cell_type": "markdown",
   "id": "fa618d7b-96b3-47d4-8cb0-2003c4e109d7",
   "metadata": {},
   "source": [
    "# Loading model"
   ]
  },
  {
   "cell_type": "code",
   "execution_count": 4,
   "id": "c3ef4edf-de0a-4158-922c-d7f3cd3f5fce",
   "metadata": {
    "tags": []
   },
   "outputs": [
    {
     "name": "stderr",
     "output_type": "stream",
     "text": [
      "/opt/conda/envs/RAA/lib/python3.8/site-packages/langchain_core/_api/deprecation.py:117: LangChainDeprecationWarning: The class `langchain_community.chat_models.openai.ChatOpenAI` was deprecated in langchain-community 0.0.10 and will be removed in 0.2.0. An updated version of the class exists in the langchain-openai package and should be used instead. To use it run `pip install -U langchain-openai` and import as `from langchain_openai import ChatOpenAI`.\n",
      "  warn_deprecated(\n"
     ]
    }
   ],
   "source": [
    "llm=ChatOpenAI(temperature=0, model=\"gpt-3.5-turbo-1106\",openai_api_key = openai.api_key)"
   ]
  },
  {
   "cell_type": "markdown",
   "id": "d5cf7e69-47de-4389-97d8-25e028217a4a",
   "metadata": {},
   "source": [
    "# Generating embeddings"
   ]
  },
  {
   "cell_type": "code",
   "execution_count": 5,
   "id": "ff848f44-2d94-4cee-8b77-c9da5755eb41",
   "metadata": {
    "tags": []
   },
   "outputs": [
    {
     "name": "stderr",
     "output_type": "stream",
     "text": [
      "/opt/conda/envs/RAA/lib/python3.8/site-packages/langchain_core/_api/deprecation.py:117: LangChainDeprecationWarning: The class `langchain_community.embeddings.openai.OpenAIEmbeddings` was deprecated in langchain-community 0.1.0 and will be removed in 0.2.0. An updated version of the class exists in the langchain-openai package and should be used instead. To use it run `pip install -U langchain-openai` and import as `from langchain_openai import OpenAIEmbeddings`.\n",
      "  warn_deprecated(\n"
     ]
    }
   ],
   "source": [
    "embeddings_model = OpenAIEmbeddings(openai_api_key=openai.api_key)"
   ]
  },
  {
   "cell_type": "markdown",
   "id": "46874bca-a5e1-4ab0-a24a-2410d947236e",
   "metadata": {},
   "source": [
    "# Loading Documents"
   ]
  },
  {
   "cell_type": "code",
   "execution_count": null,
   "id": "5375bff9-8e82-4fcf-b7ec-b592534b8035",
   "metadata": {
    "tags": []
   },
   "outputs": [],
   "source": [
    "# Initialize the responses dictionary with empty lists for each category\n",
    "# responses = {category: [] for category in question_dictionary.keys()}\n",
    "\n",
    "pbar = tqdm(total=len(all_docs[59:]))\n",
    "for index, doc in enumerate(all_docs[59:]):\n",
    "    # After every 10 elements, introduce a delay\n",
    "    if (index + 1) % 5 == 0:\n",
    "        print(\"Taking a power nap for 2 mins. Kindly wait! \")\n",
    "        time.sleep(120)  # Sleep for 120 seconds (2 minutes)\n",
    "    \n",
    "    loader = PyPDFLoader(doc)\n",
    "    # pages = loader.load()\n",
    "    index = VectorstoreIndexCreator(embedding=embeddings_model).from_loaders([loader])\n",
    "\n",
    "    # Iterate over each question category\n",
    "    for category, questions in question_dictionary.items():\n",
    "        if category not in [\"privacy\", \"bias\", \"transparency\", \"risk\"]:\n",
    "            raise Exception(\"Question categories can only be amongst privacy, bias, transparency, and risk\")\n",
    "\n",
    "        category_temp = []\n",
    "        # Iterate over each question in the current category\n",
    "        for question in questions:\n",
    "            response = index.query(llm=llm, question=question)\n",
    "            category_temp.append(response)\n",
    "        responses[category].append(category_temp)\n",
    "        \n",
    "    pbar.update(1)\n",
    "pbar.close()\n",
    "\n",
    "# Unpack the responses into separate variables\n",
    "privacy_response, bias_response, transparency_response, risk_response = (\n",
    "    responses[\"privacy\"], responses[\"bias\"], responses[\"transparency\"], responses[\"risk\"])"
   ]
  },
  {
   "cell_type": "markdown",
   "id": "1d2c4dbc-0ab5-4bf1-a50d-4e86e7d46865",
   "metadata": {
    "tags": []
   },
   "source": [
    "# Converting data to pandas dataframe format"
   ]
  },
  {
   "cell_type": "code",
   "execution_count": 24,
   "id": "f26dfcb0-2def-4775-ae6c-c1cdbce1ef3a",
   "metadata": {
    "tags": []
   },
   "outputs": [],
   "source": [
    "column_names = range(len(all_docs))\n",
    "column_names = [\"DOC-\" + str(column) for column in column_names]"
   ]
  },
  {
   "cell_type": "code",
   "execution_count": 26,
   "id": "e5056113-8398-4723-8dc0-39e1619d10af",
   "metadata": {
    "tags": []
   },
   "outputs": [],
   "source": [
    "privacy_questions = range(len(question_dictionary['privacy']))\n",
    "privacy_questions = [\"Q-\" + str(question) for question in privacy_questions]\n",
    "\n",
    "bias_questions = range(len(question_dictionary['bias']))\n",
    "bias_questions = [\"Q-\" + str(question) for question in bias_questions]\n",
    "\n",
    "transparency_questions = range(len(question_dictionary['transparency']))\n",
    "transparency_questions = [\"Q-\" + str(question) for question in transparency_questions]\n",
    "\n",
    "risk_questions = range(len(question_dictionary['risk']))\n",
    "risk_questions = [\"Q-\" + str(question) for question in risk_questions]"
   ]
  },
  {
   "cell_type": "markdown",
   "id": "ba565d7c-1e4e-4501-ac7a-9373cfcfe719",
   "metadata": {
    "tags": []
   },
   "source": [
    "#### Creating privacy dataframe"
   ]
  },
  {
   "cell_type": "code",
   "execution_count": 46,
   "id": "789c2bee-8ac9-417b-a131-abe59de9f166",
   "metadata": {
    "tags": []
   },
   "outputs": [],
   "source": [
    "privacy_df = pd.DataFrame(columns=column_names)\n",
    "for index, column in enumerate(column_names):\n",
    "    privacy_df[column] = privacy_response[index]\n",
    "    \n",
    "privacy_df.index = privacy_questions\n",
    "privacy_df = privacy_df.T.replace(\"Info not available.\", \"NA\")\n",
    "privacy_df = privacy_df.replace(to_replace=r'^(Yes).*', value='Yes', regex=True)\n",
    "privacy_df = privacy_df.replace(to_replace=r'^(No).*', value='No', regex=True)\n",
    "privacy_df.to_csv(\"data/privacy.csv\")"
   ]
  },
  {
   "cell_type": "code",
   "execution_count": 56,
   "id": "e7660f47-448c-4342-80bd-e26f3207b192",
   "metadata": {
    "tags": []
   },
   "outputs": [
    {
     "data": {
      "text/html": [
       "<div>\n",
       "<style scoped>\n",
       "    .dataframe tbody tr th:only-of-type {\n",
       "        vertical-align: middle;\n",
       "    }\n",
       "\n",
       "    .dataframe tbody tr th {\n",
       "        vertical-align: top;\n",
       "    }\n",
       "\n",
       "    .dataframe thead th {\n",
       "        text-align: right;\n",
       "    }\n",
       "</style>\n",
       "<table border=\"1\" class=\"dataframe\">\n",
       "  <thead>\n",
       "    <tr style=\"text-align: right;\">\n",
       "      <th></th>\n",
       "      <th>Q-0</th>\n",
       "      <th>Q-1</th>\n",
       "      <th>Q-2</th>\n",
       "      <th>Q-3</th>\n",
       "      <th>Q-4</th>\n",
       "      <th>Q-5</th>\n",
       "      <th>Q-6</th>\n",
       "    </tr>\n",
       "  </thead>\n",
       "  <tbody>\n",
       "    <tr>\n",
       "      <th>DOC-0</th>\n",
       "      <td>NA</td>\n",
       "      <td>Yes</td>\n",
       "      <td>NA</td>\n",
       "      <td>NA</td>\n",
       "      <td>Yes</td>\n",
       "      <td>NA</td>\n",
       "      <td>NA</td>\n",
       "    </tr>\n",
       "    <tr>\n",
       "      <th>DOC-1</th>\n",
       "      <td>NA</td>\n",
       "      <td>Yes</td>\n",
       "      <td>NA</td>\n",
       "      <td>NA</td>\n",
       "      <td>Yes</td>\n",
       "      <td>NA</td>\n",
       "      <td>NA</td>\n",
       "    </tr>\n",
       "    <tr>\n",
       "      <th>DOC-2</th>\n",
       "      <td>NA</td>\n",
       "      <td>Yes</td>\n",
       "      <td>NA</td>\n",
       "      <td>NA</td>\n",
       "      <td>Yes</td>\n",
       "      <td>NA</td>\n",
       "      <td>NA</td>\n",
       "    </tr>\n",
       "    <tr>\n",
       "      <th>DOC-3</th>\n",
       "      <td>Yes</td>\n",
       "      <td>Yes</td>\n",
       "      <td>NA</td>\n",
       "      <td>NA</td>\n",
       "      <td>NA</td>\n",
       "      <td>NA</td>\n",
       "      <td>NA</td>\n",
       "    </tr>\n",
       "    <tr>\n",
       "      <th>DOC-4</th>\n",
       "      <td>Yes</td>\n",
       "      <td>Yes</td>\n",
       "      <td>NA</td>\n",
       "      <td>NA</td>\n",
       "      <td>NA</td>\n",
       "      <td>NA</td>\n",
       "      <td>NA</td>\n",
       "    </tr>\n",
       "    <tr>\n",
       "      <th>...</th>\n",
       "      <td>...</td>\n",
       "      <td>...</td>\n",
       "      <td>...</td>\n",
       "      <td>...</td>\n",
       "      <td>...</td>\n",
       "      <td>...</td>\n",
       "      <td>...</td>\n",
       "    </tr>\n",
       "    <tr>\n",
       "      <th>DOC-62</th>\n",
       "      <td>Yes</td>\n",
       "      <td>Yes</td>\n",
       "      <td>Yes</td>\n",
       "      <td>Yes</td>\n",
       "      <td>Yes</td>\n",
       "      <td>NA</td>\n",
       "      <td>No</td>\n",
       "    </tr>\n",
       "    <tr>\n",
       "      <th>DOC-63</th>\n",
       "      <td>Yes</td>\n",
       "      <td>Yes</td>\n",
       "      <td>Yes</td>\n",
       "      <td>Yes</td>\n",
       "      <td>Yes</td>\n",
       "      <td>NA</td>\n",
       "      <td>No</td>\n",
       "    </tr>\n",
       "    <tr>\n",
       "      <th>DOC-64</th>\n",
       "      <td>Yes</td>\n",
       "      <td>Yes</td>\n",
       "      <td>Yes</td>\n",
       "      <td>NA</td>\n",
       "      <td>Yes</td>\n",
       "      <td>NA</td>\n",
       "      <td>No</td>\n",
       "    </tr>\n",
       "    <tr>\n",
       "      <th>DOC-65</th>\n",
       "      <td>Yes</td>\n",
       "      <td>Yes</td>\n",
       "      <td>Yes</td>\n",
       "      <td>Yes</td>\n",
       "      <td>Yes</td>\n",
       "      <td>NA</td>\n",
       "      <td>Yes</td>\n",
       "    </tr>\n",
       "    <tr>\n",
       "      <th>DOC-66</th>\n",
       "      <td>Yes</td>\n",
       "      <td>Yes</td>\n",
       "      <td>Yes</td>\n",
       "      <td>NA</td>\n",
       "      <td>Yes</td>\n",
       "      <td>NA</td>\n",
       "      <td>No</td>\n",
       "    </tr>\n",
       "  </tbody>\n",
       "</table>\n",
       "<p>67 rows × 7 columns</p>\n",
       "</div>"
      ],
      "text/plain": [
       "        Q-0  Q-1  Q-2  Q-3  Q-4 Q-5  Q-6\n",
       "DOC-0    NA  Yes   NA   NA  Yes  NA   NA\n",
       "DOC-1    NA  Yes   NA   NA  Yes  NA   NA\n",
       "DOC-2    NA  Yes   NA   NA  Yes  NA   NA\n",
       "DOC-3   Yes  Yes   NA   NA   NA  NA   NA\n",
       "DOC-4   Yes  Yes   NA   NA   NA  NA   NA\n",
       "...     ...  ...  ...  ...  ...  ..  ...\n",
       "DOC-62  Yes  Yes  Yes  Yes  Yes  NA   No\n",
       "DOC-63  Yes  Yes  Yes  Yes  Yes  NA   No\n",
       "DOC-64  Yes  Yes  Yes   NA  Yes  NA   No\n",
       "DOC-65  Yes  Yes  Yes  Yes  Yes  NA  Yes\n",
       "DOC-66  Yes  Yes  Yes   NA  Yes  NA   No\n",
       "\n",
       "[67 rows x 7 columns]"
      ]
     },
     "execution_count": 56,
     "metadata": {},
     "output_type": "execute_result"
    }
   ],
   "source": [
    "privacy_df"
   ]
  },
  {
   "cell_type": "markdown",
   "id": "fbdd3fb9-46e8-4b4c-9e71-7896790514ed",
   "metadata": {
    "tags": []
   },
   "source": [
    "# Creating bias dataframe"
   ]
  },
  {
   "cell_type": "code",
   "execution_count": 55,
   "id": "e94c4934-1a9f-421c-babb-3964b077d00b",
   "metadata": {
    "tags": []
   },
   "outputs": [],
   "source": [
    "bias_df = pd.DataFrame(columns=column_names)\n",
    "for index, column in enumerate(column_names):\n",
    "    bias_df[column] = bias_response[index]\n",
    "    \n",
    "bias_df.index = bias_questions\n",
    "bias_df = bias_df.T.replace(\"Info not available.\", \"NA\")\n",
    "bias_df = bias_df.replace(to_replace=r'^(Yes).*', value='Yes', regex=True)\n",
    "bias_df = bias_df.replace(to_replace=r'^(No).*', value='No', regex=True)\n",
    "bias_df = bias_df.replace(to_replace=r'.*(not available).*', value='NA', regex=True)\n",
    "bias_df.to_csv(\"data/bias.csv\")"
   ]
  },
  {
   "cell_type": "code",
   "execution_count": 57,
   "id": "d4e75cff-93fa-47b7-908c-d51e2d1c0e7d",
   "metadata": {
    "tags": []
   },
   "outputs": [
    {
     "data": {
      "text/html": [
       "<div>\n",
       "<style scoped>\n",
       "    .dataframe tbody tr th:only-of-type {\n",
       "        vertical-align: middle;\n",
       "    }\n",
       "\n",
       "    .dataframe tbody tr th {\n",
       "        vertical-align: top;\n",
       "    }\n",
       "\n",
       "    .dataframe thead th {\n",
       "        text-align: right;\n",
       "    }\n",
       "</style>\n",
       "<table border=\"1\" class=\"dataframe\">\n",
       "  <thead>\n",
       "    <tr style=\"text-align: right;\">\n",
       "      <th></th>\n",
       "      <th>Q-0</th>\n",
       "      <th>Q-1</th>\n",
       "      <th>Q-2</th>\n",
       "      <th>Q-3</th>\n",
       "      <th>Q-4</th>\n",
       "      <th>Q-5</th>\n",
       "      <th>Q-6</th>\n",
       "      <th>Q-7</th>\n",
       "      <th>Q-8</th>\n",
       "    </tr>\n",
       "  </thead>\n",
       "  <tbody>\n",
       "    <tr>\n",
       "      <th>DOC-0</th>\n",
       "      <td>Yes</td>\n",
       "      <td>Yes</td>\n",
       "      <td>NA</td>\n",
       "      <td>Yes</td>\n",
       "      <td>Yes</td>\n",
       "      <td>NA</td>\n",
       "      <td>Yes</td>\n",
       "      <td>Yes</td>\n",
       "      <td>NA</td>\n",
       "    </tr>\n",
       "    <tr>\n",
       "      <th>DOC-1</th>\n",
       "      <td>Yes</td>\n",
       "      <td>Yes</td>\n",
       "      <td>NA</td>\n",
       "      <td>Yes</td>\n",
       "      <td>Yes</td>\n",
       "      <td>NA</td>\n",
       "      <td>Yes</td>\n",
       "      <td>NA</td>\n",
       "      <td>NA</td>\n",
       "    </tr>\n",
       "    <tr>\n",
       "      <th>DOC-2</th>\n",
       "      <td>Yes</td>\n",
       "      <td>Yes</td>\n",
       "      <td>NA</td>\n",
       "      <td>Yes</td>\n",
       "      <td>Yes</td>\n",
       "      <td>NA</td>\n",
       "      <td>Yes</td>\n",
       "      <td>NA</td>\n",
       "      <td>NA</td>\n",
       "    </tr>\n",
       "    <tr>\n",
       "      <th>DOC-3</th>\n",
       "      <td>NA</td>\n",
       "      <td>NA</td>\n",
       "      <td>NA</td>\n",
       "      <td>NA</td>\n",
       "      <td>NA</td>\n",
       "      <td>NA</td>\n",
       "      <td>NA</td>\n",
       "      <td>NA</td>\n",
       "      <td>NA</td>\n",
       "    </tr>\n",
       "    <tr>\n",
       "      <th>DOC-4</th>\n",
       "      <td>Yes</td>\n",
       "      <td>NA</td>\n",
       "      <td>NA</td>\n",
       "      <td>Yes</td>\n",
       "      <td>Yes</td>\n",
       "      <td>NA</td>\n",
       "      <td>NA</td>\n",
       "      <td>NA</td>\n",
       "      <td>NA</td>\n",
       "    </tr>\n",
       "    <tr>\n",
       "      <th>...</th>\n",
       "      <td>...</td>\n",
       "      <td>...</td>\n",
       "      <td>...</td>\n",
       "      <td>...</td>\n",
       "      <td>...</td>\n",
       "      <td>...</td>\n",
       "      <td>...</td>\n",
       "      <td>...</td>\n",
       "      <td>...</td>\n",
       "    </tr>\n",
       "    <tr>\n",
       "      <th>DOC-62</th>\n",
       "      <td>Yes</td>\n",
       "      <td>Yes</td>\n",
       "      <td>Yes</td>\n",
       "      <td>NA</td>\n",
       "      <td>Yes</td>\n",
       "      <td>NA</td>\n",
       "      <td>Yes</td>\n",
       "      <td>NA</td>\n",
       "      <td>NA</td>\n",
       "    </tr>\n",
       "    <tr>\n",
       "      <th>DOC-63</th>\n",
       "      <td>Yes</td>\n",
       "      <td>Yes</td>\n",
       "      <td>Yes</td>\n",
       "      <td>NA</td>\n",
       "      <td>Yes</td>\n",
       "      <td>NA</td>\n",
       "      <td>Yes</td>\n",
       "      <td>NA</td>\n",
       "      <td>NA</td>\n",
       "    </tr>\n",
       "    <tr>\n",
       "      <th>DOC-64</th>\n",
       "      <td>Yes</td>\n",
       "      <td>Yes</td>\n",
       "      <td>Yes</td>\n",
       "      <td>NA</td>\n",
       "      <td>Yes</td>\n",
       "      <td>NA</td>\n",
       "      <td>Yes</td>\n",
       "      <td>NA</td>\n",
       "      <td>NA</td>\n",
       "    </tr>\n",
       "    <tr>\n",
       "      <th>DOC-65</th>\n",
       "      <td>Yes</td>\n",
       "      <td>Yes</td>\n",
       "      <td>Yes</td>\n",
       "      <td>NA</td>\n",
       "      <td>Yes</td>\n",
       "      <td>NA</td>\n",
       "      <td>Yes</td>\n",
       "      <td>NA</td>\n",
       "      <td>NA</td>\n",
       "    </tr>\n",
       "    <tr>\n",
       "      <th>DOC-66</th>\n",
       "      <td>Yes</td>\n",
       "      <td>Yes</td>\n",
       "      <td>Yes</td>\n",
       "      <td>NA</td>\n",
       "      <td>Yes</td>\n",
       "      <td>NA</td>\n",
       "      <td>Yes</td>\n",
       "      <td>NA</td>\n",
       "      <td>NA</td>\n",
       "    </tr>\n",
       "  </tbody>\n",
       "</table>\n",
       "<p>67 rows × 9 columns</p>\n",
       "</div>"
      ],
      "text/plain": [
       "        Q-0  Q-1  Q-2  Q-3  Q-4 Q-5  Q-6  Q-7 Q-8\n",
       "DOC-0   Yes  Yes   NA  Yes  Yes  NA  Yes  Yes  NA\n",
       "DOC-1   Yes  Yes   NA  Yes  Yes  NA  Yes   NA  NA\n",
       "DOC-2   Yes  Yes   NA  Yes  Yes  NA  Yes   NA  NA\n",
       "DOC-3    NA   NA   NA   NA   NA  NA   NA   NA  NA\n",
       "DOC-4   Yes   NA   NA  Yes  Yes  NA   NA   NA  NA\n",
       "...     ...  ...  ...  ...  ...  ..  ...  ...  ..\n",
       "DOC-62  Yes  Yes  Yes   NA  Yes  NA  Yes   NA  NA\n",
       "DOC-63  Yes  Yes  Yes   NA  Yes  NA  Yes   NA  NA\n",
       "DOC-64  Yes  Yes  Yes   NA  Yes  NA  Yes   NA  NA\n",
       "DOC-65  Yes  Yes  Yes   NA  Yes  NA  Yes   NA  NA\n",
       "DOC-66  Yes  Yes  Yes   NA  Yes  NA  Yes   NA  NA\n",
       "\n",
       "[67 rows x 9 columns]"
      ]
     },
     "execution_count": 57,
     "metadata": {},
     "output_type": "execute_result"
    }
   ],
   "source": [
    "bias_df"
   ]
  },
  {
   "cell_type": "markdown",
   "id": "b78216bb-db83-444d-bc00-2da5a37b3f77",
   "metadata": {},
   "source": [
    "# Creating transparency dataframe"
   ]
  },
  {
   "cell_type": "code",
   "execution_count": 58,
   "id": "46b659ff-1129-4946-b7c2-602dfd5542d6",
   "metadata": {
    "tags": []
   },
   "outputs": [],
   "source": [
    "transparency_df = pd.DataFrame(columns=column_names)\n",
    "for index, column in enumerate(column_names):\n",
    "    transparency_df[column] = transparency_response[index]\n",
    "    \n",
    "transparency_df.index = transparency_questions\n",
    "transparency_df = transparency_df.T.replace(\"Info not available.\", \"NA\")\n",
    "transparency_df = transparency_df.replace(to_replace=r'^(Yes).*', value='Yes', regex=True)\n",
    "transparency_df = transparency_df.replace(to_replace=r'^(No).*', value='No', regex=True)\n",
    "transparency_df.to_csv(\"data/transparency.csv\")"
   ]
  },
  {
   "cell_type": "code",
   "execution_count": 63,
   "id": "db975323-ad17-4e67-9f7a-8a4a0e9db6fe",
   "metadata": {
    "tags": []
   },
   "outputs": [
    {
     "data": {
      "text/html": [
       "<div>\n",
       "<style scoped>\n",
       "    .dataframe tbody tr th:only-of-type {\n",
       "        vertical-align: middle;\n",
       "    }\n",
       "\n",
       "    .dataframe tbody tr th {\n",
       "        vertical-align: top;\n",
       "    }\n",
       "\n",
       "    .dataframe thead th {\n",
       "        text-align: right;\n",
       "    }\n",
       "</style>\n",
       "<table border=\"1\" class=\"dataframe\">\n",
       "  <thead>\n",
       "    <tr style=\"text-align: right;\">\n",
       "      <th></th>\n",
       "      <th>Q-0</th>\n",
       "    </tr>\n",
       "  </thead>\n",
       "  <tbody>\n",
       "    <tr>\n",
       "      <th>DOC-0</th>\n",
       "      <td>Yes</td>\n",
       "    </tr>\n",
       "    <tr>\n",
       "      <th>DOC-1</th>\n",
       "      <td>Yes</td>\n",
       "    </tr>\n",
       "    <tr>\n",
       "      <th>DOC-2</th>\n",
       "      <td>Yes</td>\n",
       "    </tr>\n",
       "    <tr>\n",
       "      <th>DOC-3</th>\n",
       "      <td>Yes</td>\n",
       "    </tr>\n",
       "    <tr>\n",
       "      <th>DOC-4</th>\n",
       "      <td>Yes</td>\n",
       "    </tr>\n",
       "    <tr>\n",
       "      <th>...</th>\n",
       "      <td>...</td>\n",
       "    </tr>\n",
       "    <tr>\n",
       "      <th>DOC-62</th>\n",
       "      <td>Yes</td>\n",
       "    </tr>\n",
       "    <tr>\n",
       "      <th>DOC-63</th>\n",
       "      <td>Yes</td>\n",
       "    </tr>\n",
       "    <tr>\n",
       "      <th>DOC-64</th>\n",
       "      <td>Yes</td>\n",
       "    </tr>\n",
       "    <tr>\n",
       "      <th>DOC-65</th>\n",
       "      <td>Yes</td>\n",
       "    </tr>\n",
       "    <tr>\n",
       "      <th>DOC-66</th>\n",
       "      <td>Yes</td>\n",
       "    </tr>\n",
       "  </tbody>\n",
       "</table>\n",
       "<p>67 rows × 1 columns</p>\n",
       "</div>"
      ],
      "text/plain": [
       "        Q-0\n",
       "DOC-0   Yes\n",
       "DOC-1   Yes\n",
       "DOC-2   Yes\n",
       "DOC-3   Yes\n",
       "DOC-4   Yes\n",
       "...     ...\n",
       "DOC-62  Yes\n",
       "DOC-63  Yes\n",
       "DOC-64  Yes\n",
       "DOC-65  Yes\n",
       "DOC-66  Yes\n",
       "\n",
       "[67 rows x 1 columns]"
      ]
     },
     "execution_count": 63,
     "metadata": {},
     "output_type": "execute_result"
    }
   ],
   "source": [
    "transparency_df"
   ]
  },
  {
   "cell_type": "markdown",
   "id": "e2e37965-1711-4dbd-9f6a-2766ea7cf9f8",
   "metadata": {
    "tags": []
   },
   "source": [
    "# Creating Risk dataframe"
   ]
  },
  {
   "cell_type": "code",
   "execution_count": 62,
   "id": "70c04e4e-9170-4e5b-b27f-1cb9ccf9e102",
   "metadata": {
    "tags": []
   },
   "outputs": [],
   "source": [
    "risk_df = pd.DataFrame(columns=column_names)\n",
    "for index, column in enumerate(column_names):\n",
    "    risk_df[column] = risk_response[index]\n",
    "    \n",
    "risk_df.index = risk_questions\n",
    "risk_df = risk_df.T.replace(\"Info not available.\", \"NA\")\n",
    "risk_df = risk_df.replace(to_replace=r'^(Yes).*', value='Yes', regex=True)\n",
    "risk_df = risk_df.replace(to_replace=r'^(No).*', value='No', regex=True)\n",
    "risk_df.to_csv(\"data/risk.csv\")"
   ]
  },
  {
   "cell_type": "code",
   "execution_count": 64,
   "id": "f284b12f-11b7-4d96-ae32-3635e1d6c12d",
   "metadata": {
    "tags": []
   },
   "outputs": [
    {
     "data": {
      "text/html": [
       "<div>\n",
       "<style scoped>\n",
       "    .dataframe tbody tr th:only-of-type {\n",
       "        vertical-align: middle;\n",
       "    }\n",
       "\n",
       "    .dataframe tbody tr th {\n",
       "        vertical-align: top;\n",
       "    }\n",
       "\n",
       "    .dataframe thead th {\n",
       "        text-align: right;\n",
       "    }\n",
       "</style>\n",
       "<table border=\"1\" class=\"dataframe\">\n",
       "  <thead>\n",
       "    <tr style=\"text-align: right;\">\n",
       "      <th></th>\n",
       "      <th>Q-0</th>\n",
       "      <th>Q-1</th>\n",
       "      <th>Q-2</th>\n",
       "      <th>Q-3</th>\n",
       "      <th>Q-4</th>\n",
       "      <th>Q-5</th>\n",
       "      <th>Q-6</th>\n",
       "      <th>Q-7</th>\n",
       "    </tr>\n",
       "  </thead>\n",
       "  <tbody>\n",
       "    <tr>\n",
       "      <th>DOC-0</th>\n",
       "      <td>Yes</td>\n",
       "      <td>NA</td>\n",
       "      <td>Yes</td>\n",
       "      <td>NA</td>\n",
       "      <td>NA</td>\n",
       "      <td>NA</td>\n",
       "      <td>NA</td>\n",
       "      <td>NA</td>\n",
       "    </tr>\n",
       "    <tr>\n",
       "      <th>DOC-1</th>\n",
       "      <td>Yes</td>\n",
       "      <td>NA</td>\n",
       "      <td>Yes</td>\n",
       "      <td>Yes</td>\n",
       "      <td>NA</td>\n",
       "      <td>NA</td>\n",
       "      <td>NA</td>\n",
       "      <td>NA</td>\n",
       "    </tr>\n",
       "    <tr>\n",
       "      <th>DOC-2</th>\n",
       "      <td>Yes</td>\n",
       "      <td>NA</td>\n",
       "      <td>Yes</td>\n",
       "      <td>Yes</td>\n",
       "      <td>Yes</td>\n",
       "      <td>NA</td>\n",
       "      <td>NA</td>\n",
       "      <td>NA</td>\n",
       "    </tr>\n",
       "    <tr>\n",
       "      <th>DOC-3</th>\n",
       "      <td>NA</td>\n",
       "      <td>NA</td>\n",
       "      <td>NA</td>\n",
       "      <td>NA</td>\n",
       "      <td>NA</td>\n",
       "      <td>NA</td>\n",
       "      <td>NA</td>\n",
       "      <td>NA</td>\n",
       "    </tr>\n",
       "    <tr>\n",
       "      <th>DOC-4</th>\n",
       "      <td>NA</td>\n",
       "      <td>NA</td>\n",
       "      <td>Yes</td>\n",
       "      <td>NA</td>\n",
       "      <td>NA</td>\n",
       "      <td>NA</td>\n",
       "      <td>NA</td>\n",
       "      <td>NA</td>\n",
       "    </tr>\n",
       "    <tr>\n",
       "      <th>...</th>\n",
       "      <td>...</td>\n",
       "      <td>...</td>\n",
       "      <td>...</td>\n",
       "      <td>...</td>\n",
       "      <td>...</td>\n",
       "      <td>...</td>\n",
       "      <td>...</td>\n",
       "      <td>...</td>\n",
       "    </tr>\n",
       "    <tr>\n",
       "      <th>DOC-62</th>\n",
       "      <td>Yes</td>\n",
       "      <td>Yes</td>\n",
       "      <td>Yes</td>\n",
       "      <td>Yes</td>\n",
       "      <td>Yes</td>\n",
       "      <td>NA</td>\n",
       "      <td>NA</td>\n",
       "      <td>NA</td>\n",
       "    </tr>\n",
       "    <tr>\n",
       "      <th>DOC-63</th>\n",
       "      <td>Yes</td>\n",
       "      <td>Yes</td>\n",
       "      <td>Yes</td>\n",
       "      <td>Yes</td>\n",
       "      <td>Yes</td>\n",
       "      <td>NA</td>\n",
       "      <td>NA</td>\n",
       "      <td>NA</td>\n",
       "    </tr>\n",
       "    <tr>\n",
       "      <th>DOC-64</th>\n",
       "      <td>Yes</td>\n",
       "      <td>Yes</td>\n",
       "      <td>Yes</td>\n",
       "      <td>Yes</td>\n",
       "      <td>Yes</td>\n",
       "      <td>NA</td>\n",
       "      <td>NA</td>\n",
       "      <td>NA</td>\n",
       "    </tr>\n",
       "    <tr>\n",
       "      <th>DOC-65</th>\n",
       "      <td>Yes</td>\n",
       "      <td>Yes</td>\n",
       "      <td>Yes</td>\n",
       "      <td>Yes</td>\n",
       "      <td>Yes</td>\n",
       "      <td>NA</td>\n",
       "      <td>NA</td>\n",
       "      <td>NA</td>\n",
       "    </tr>\n",
       "    <tr>\n",
       "      <th>DOC-66</th>\n",
       "      <td>Yes</td>\n",
       "      <td>Yes</td>\n",
       "      <td>Yes</td>\n",
       "      <td>Yes</td>\n",
       "      <td>Yes</td>\n",
       "      <td>NA</td>\n",
       "      <td>NA</td>\n",
       "      <td>NA</td>\n",
       "    </tr>\n",
       "  </tbody>\n",
       "</table>\n",
       "<p>67 rows × 8 columns</p>\n",
       "</div>"
      ],
      "text/plain": [
       "        Q-0  Q-1  Q-2  Q-3  Q-4 Q-5 Q-6 Q-7\n",
       "DOC-0   Yes   NA  Yes   NA   NA  NA  NA  NA\n",
       "DOC-1   Yes   NA  Yes  Yes   NA  NA  NA  NA\n",
       "DOC-2   Yes   NA  Yes  Yes  Yes  NA  NA  NA\n",
       "DOC-3    NA   NA   NA   NA   NA  NA  NA  NA\n",
       "DOC-4    NA   NA  Yes   NA   NA  NA  NA  NA\n",
       "...     ...  ...  ...  ...  ...  ..  ..  ..\n",
       "DOC-62  Yes  Yes  Yes  Yes  Yes  NA  NA  NA\n",
       "DOC-63  Yes  Yes  Yes  Yes  Yes  NA  NA  NA\n",
       "DOC-64  Yes  Yes  Yes  Yes  Yes  NA  NA  NA\n",
       "DOC-65  Yes  Yes  Yes  Yes  Yes  NA  NA  NA\n",
       "DOC-66  Yes  Yes  Yes  Yes  Yes  NA  NA  NA\n",
       "\n",
       "[67 rows x 8 columns]"
      ]
     },
     "execution_count": 64,
     "metadata": {},
     "output_type": "execute_result"
    }
   ],
   "source": [
    "risk_df"
   ]
  },
  {
   "cell_type": "markdown",
   "id": "1c941de2-05da-452a-aa7e-6fd5ad2f5dbc",
   "metadata": {},
   "source": [
    "# Calculate data stats"
   ]
  },
  {
   "cell_type": "code",
   "execution_count": 20,
   "id": "86d827f6-ba94-458c-b86d-4c70acc92e4d",
   "metadata": {},
   "outputs": [],
   "source": [
    "# Loading data\n",
    "\n",
    "privacy_df = pd.read_csv(\"data/privacy.csv\").set_index('Unnamed: 0')\n",
    "bias_df = pd.read_csv(\"data/bias.csv\").set_index('Unnamed: 0')\n",
    "transparency_df = pd.read_csv(\"data/transparency.csv\").set_index('Unnamed: 0')\n",
    "risk_df = pd.read_csv(\"data/risk.csv\").set_index('Unnamed: 0')"
   ]
  },
  {
   "cell_type": "code",
   "execution_count": 27,
   "id": "f591a1ff-459e-44e9-895e-7e9da0dbc5ef",
   "metadata": {},
   "outputs": [],
   "source": [
    "def generate_stats(df):\n",
    "    columns = df.columns\n",
    "    stat_dict = {}\n",
    "    for column in columns:\n",
    "        temp_dict = dict(Counter(df[column]))\n",
    "        for key, value in temp_dict.items():\n",
    "            if key not in stat_dict.keys():\n",
    "                stat_dict[key] = temp_dict[key]\n",
    "            else:\n",
    "                stat_dict[key] += temp_dict[key]\n",
    "    return stat_dict"
   ]
  },
  {
   "cell_type": "code",
   "execution_count": 28,
   "id": "1b9b5cb4-abbe-475a-a7a5-68f92422e489",
   "metadata": {},
   "outputs": [
    {
     "name": "stdout",
     "output_type": "stream",
     "text": [
      "Privacy Compliance Ratio: 0.48187633262260127\n"
     ]
    }
   ],
   "source": [
    "privacy_stat = generate_stats(privacy_df)\n",
    "print(\"Privacy Compliance Ratio:\", privacy_stat['Yes']/sum(list((privacy_stat.values()))))"
   ]
  },
  {
   "cell_type": "code",
   "execution_count": 30,
   "id": "27628639-e567-46c0-aeef-42e1c7e78efe",
   "metadata": {},
   "outputs": [
    {
     "name": "stdout",
     "output_type": "stream",
     "text": [
      "Bias Compliance Ratio: 0.5008291873963516\n"
     ]
    }
   ],
   "source": [
    "# Assuming privacy_df is your DataFrame\n",
    "bias_stat = generate_stats(bias_df)\n",
    "# Calculate and print compliance stats\n",
    "print(\"Bias Compliance Ratio:\", bias_stat['Yes']/sum(list((bias_stat.values()))))"
   ]
  },
  {
   "cell_type": "code",
   "execution_count": 31,
   "id": "c3db3918-5487-4ead-a3c5-fcb6aafda1ab",
   "metadata": {},
   "outputs": [
    {
     "name": "stdout",
     "output_type": "stream",
     "text": [
      "Transparency Compliance Ratio: 1.0\n"
     ]
    }
   ],
   "source": [
    "# Assuming privacy_df is your DataFrame\n",
    "transparency_stat = generate_stats(transparency_df)\n",
    "# Calculate and print compliance stats\n",
    "print(\"Transparency Compliance Ratio:\", transparency_stat['Yes']/sum(list((transparency_stat.values()))))"
   ]
  },
  {
   "cell_type": "code",
   "execution_count": 32,
   "id": "996e5c0c-4139-41a9-bef1-e62701431b32",
   "metadata": {},
   "outputs": [
    {
     "name": "stdout",
     "output_type": "stream",
     "text": [
      "Risk Compliance Ratio: 0.36007462686567165\n"
     ]
    }
   ],
   "source": [
    "# Assuming privacy_df is your DataFrame\n",
    "risk_stat = generate_stats(risk_df)\n",
    "# Calculate and print compliance stats\n",
    "print(\"Risk Compliance Ratio:\", risk_stat['Yes']/sum(list((risk_stat.values()))))"
   ]
  }
 ],
 "metadata": {
  "kernelspec": {
   "display_name": "raa",
   "language": "python",
   "name": "raa"
  },
  "language_info": {
   "codemirror_mode": {
    "name": "ipython",
    "version": 3
   },
   "file_extension": ".py",
   "mimetype": "text/x-python",
   "name": "python",
   "nbconvert_exporter": "python",
   "pygments_lexer": "ipython3",
   "version": "3.8.0"
  }
 },
 "nbformat": 4,
 "nbformat_minor": 5
}
